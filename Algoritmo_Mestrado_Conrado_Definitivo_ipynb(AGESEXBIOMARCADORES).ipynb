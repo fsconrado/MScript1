{
  "cells": [
    {
      "cell_type": "markdown",
      "metadata": {
        "id": "view-in-github",
        "colab_type": "text"
      },
      "source": [
        "<a href=\"https://colab.research.google.com/github/fsconrado/MScript1/blob/main/Algoritmo_Mestrado_Conrado_Definitivo_ipynb(AGESEXBIOMARCADORES).ipynb\" target=\"_parent\"><img src=\"https://colab.research.google.com/assets/colab-badge.svg\" alt=\"Open In Colab\"/></a>"
      ]
    },
    {
      "cell_type": "markdown",
      "metadata": {
        "id": "rWU1VxEzCv-x"
      },
      "source": [
        "---\n",
        "# **Cenário 3:**{ Biomarcadores com Idade e Sexo | Dados Não balanceados}\n",
        "---"
      ]
    },
    {
      "cell_type": "markdown",
      "metadata": {
        "id": "7weV3Bth3o_-"
      },
      "source": [
        "# **Visão dos Dados - "
      ]
    },
    {
      "cell_type": "code",
      "execution_count": 138,
      "metadata": {
        "id": "S823WBu63iBQ"
      },
      "outputs": [],
      "source": [
        "#1. IMPORTAR O DATASET (COLUNAS IMPORTANTES: AGE, SEX, LYVE1, REG1B, TFF1 ==> ALVO PREVER A COLUNA STAGE.3)\n",
        "#!pip install plotly --upgrade\n",
        "#Baixar os dados e jogar na variável DADOS\n",
        "import pandas as pd\n",
        "\n",
        "dados = pd.read_csv(\"dataMODIFICADOv10F.csv\", sep=\",\")\n",
        "dados = dados.fillna(1, inplace= False)\n",
        "# 16 colunas\n"
      ]
    },
    {
      "cell_type": "code",
      "execution_count": 139,
      "metadata": {
        "colab": {
          "base_uri": "https://localhost:8080/",
          "height": 488
        },
        "id": "MLSQ8HYU4K8i",
        "outputId": "ff8c021f-f4d0-48d9-cf28-e4aa6eda6f31"
      },
      "outputs": [
        {
          "output_type": "execute_result",
          "data": {
            "text/plain": [
              "    sample_id patient_cohort sample_origin  diagnosis stage sex  age  \\\n",
              "0        S497        Cohort1           ESP          3     I   F   81   \n",
              "1        S456        Cohort1           LIV          3    IA   M   57   \n",
              "2        S520        Cohort1          BPTB          3    IA   M   55   \n",
              "3        S573        Cohort2          BPTB          3    IA   M   58   \n",
              "4        S401        Cohort1           LIV          3    IB   M   73   \n",
              "..        ...            ...           ...        ...   ...  ..  ...   \n",
              "194      S549        Cohort2          BPTB          3    IV   M   68   \n",
              "195      S558        Cohort2          BPTB          3    IV   F   71   \n",
              "196      S560        Cohort2          BPTB          3    IV   M   63   \n",
              "197      S583        Cohort2          BPTB          3    IV   F   75   \n",
              "198      S590        Cohort1          BPTB          3    IV   M   74   \n",
              "\n",
              "         LYVE1       REG1B         TFF1  creatinine  plasma_CA19_9      REG1A  \\\n",
              "0    12.017150  431.422530   874.099700     0.56550            1.0      1.000   \n",
              "1     2.628425   40.620818   529.984000     1.73043           10.0    155.270   \n",
              "2     2.830541   33.406150   323.175770     0.47502           11.0    210.185   \n",
              "3     0.632433  188.253000   138.630000     0.44109           11.0      1.000   \n",
              "4    12.245820  196.921830  1529.183124     0.70122         3236.0    432.917   \n",
              "..         ...         ...          ...         ...            ...        ...   \n",
              "194   7.058209  156.241000   525.178000     0.52026            1.0      1.000   \n",
              "195   8.341207   16.915000   245.947000     0.85956            1.0      1.000   \n",
              "196   7.674707  289.701000   537.286000     1.36851            1.0      1.000   \n",
              "197   8.206777  205.930000   722.523000     1.33458            1.0      1.000   \n",
              "198   8.200958  411.938275  2021.321078     1.50423         1488.0  13200.000   \n",
              "\n",
              "    stage2  \n",
              "0        I  \n",
              "1        I  \n",
              "2        I  \n",
              "3        I  \n",
              "4        I  \n",
              "..     ...  \n",
              "194     IV  \n",
              "195     IV  \n",
              "196     IV  \n",
              "197     IV  \n",
              "198     IV  \n",
              "\n",
              "[199 rows x 14 columns]"
            ],
            "text/html": [
              "\n",
              "  <div id=\"df-38cb5d92-f9d2-4a14-a125-e234cea85c1a\">\n",
              "    <div class=\"colab-df-container\">\n",
              "      <div>\n",
              "<style scoped>\n",
              "    .dataframe tbody tr th:only-of-type {\n",
              "        vertical-align: middle;\n",
              "    }\n",
              "\n",
              "    .dataframe tbody tr th {\n",
              "        vertical-align: top;\n",
              "    }\n",
              "\n",
              "    .dataframe thead th {\n",
              "        text-align: right;\n",
              "    }\n",
              "</style>\n",
              "<table border=\"1\" class=\"dataframe\">\n",
              "  <thead>\n",
              "    <tr style=\"text-align: right;\">\n",
              "      <th></th>\n",
              "      <th>sample_id</th>\n",
              "      <th>patient_cohort</th>\n",
              "      <th>sample_origin</th>\n",
              "      <th>diagnosis</th>\n",
              "      <th>stage</th>\n",
              "      <th>sex</th>\n",
              "      <th>age</th>\n",
              "      <th>LYVE1</th>\n",
              "      <th>REG1B</th>\n",
              "      <th>TFF1</th>\n",
              "      <th>creatinine</th>\n",
              "      <th>plasma_CA19_9</th>\n",
              "      <th>REG1A</th>\n",
              "      <th>stage2</th>\n",
              "    </tr>\n",
              "  </thead>\n",
              "  <tbody>\n",
              "    <tr>\n",
              "      <th>0</th>\n",
              "      <td>S497</td>\n",
              "      <td>Cohort1</td>\n",
              "      <td>ESP</td>\n",
              "      <td>3</td>\n",
              "      <td>I</td>\n",
              "      <td>F</td>\n",
              "      <td>81</td>\n",
              "      <td>12.017150</td>\n",
              "      <td>431.422530</td>\n",
              "      <td>874.099700</td>\n",
              "      <td>0.56550</td>\n",
              "      <td>1.0</td>\n",
              "      <td>1.000</td>\n",
              "      <td>I</td>\n",
              "    </tr>\n",
              "    <tr>\n",
              "      <th>1</th>\n",
              "      <td>S456</td>\n",
              "      <td>Cohort1</td>\n",
              "      <td>LIV</td>\n",
              "      <td>3</td>\n",
              "      <td>IA</td>\n",
              "      <td>M</td>\n",
              "      <td>57</td>\n",
              "      <td>2.628425</td>\n",
              "      <td>40.620818</td>\n",
              "      <td>529.984000</td>\n",
              "      <td>1.73043</td>\n",
              "      <td>10.0</td>\n",
              "      <td>155.270</td>\n",
              "      <td>I</td>\n",
              "    </tr>\n",
              "    <tr>\n",
              "      <th>2</th>\n",
              "      <td>S520</td>\n",
              "      <td>Cohort1</td>\n",
              "      <td>BPTB</td>\n",
              "      <td>3</td>\n",
              "      <td>IA</td>\n",
              "      <td>M</td>\n",
              "      <td>55</td>\n",
              "      <td>2.830541</td>\n",
              "      <td>33.406150</td>\n",
              "      <td>323.175770</td>\n",
              "      <td>0.47502</td>\n",
              "      <td>11.0</td>\n",
              "      <td>210.185</td>\n",
              "      <td>I</td>\n",
              "    </tr>\n",
              "    <tr>\n",
              "      <th>3</th>\n",
              "      <td>S573</td>\n",
              "      <td>Cohort2</td>\n",
              "      <td>BPTB</td>\n",
              "      <td>3</td>\n",
              "      <td>IA</td>\n",
              "      <td>M</td>\n",
              "      <td>58</td>\n",
              "      <td>0.632433</td>\n",
              "      <td>188.253000</td>\n",
              "      <td>138.630000</td>\n",
              "      <td>0.44109</td>\n",
              "      <td>11.0</td>\n",
              "      <td>1.000</td>\n",
              "      <td>I</td>\n",
              "    </tr>\n",
              "    <tr>\n",
              "      <th>4</th>\n",
              "      <td>S401</td>\n",
              "      <td>Cohort1</td>\n",
              "      <td>LIV</td>\n",
              "      <td>3</td>\n",
              "      <td>IB</td>\n",
              "      <td>M</td>\n",
              "      <td>73</td>\n",
              "      <td>12.245820</td>\n",
              "      <td>196.921830</td>\n",
              "      <td>1529.183124</td>\n",
              "      <td>0.70122</td>\n",
              "      <td>3236.0</td>\n",
              "      <td>432.917</td>\n",
              "      <td>I</td>\n",
              "    </tr>\n",
              "    <tr>\n",
              "      <th>...</th>\n",
              "      <td>...</td>\n",
              "      <td>...</td>\n",
              "      <td>...</td>\n",
              "      <td>...</td>\n",
              "      <td>...</td>\n",
              "      <td>...</td>\n",
              "      <td>...</td>\n",
              "      <td>...</td>\n",
              "      <td>...</td>\n",
              "      <td>...</td>\n",
              "      <td>...</td>\n",
              "      <td>...</td>\n",
              "      <td>...</td>\n",
              "      <td>...</td>\n",
              "    </tr>\n",
              "    <tr>\n",
              "      <th>194</th>\n",
              "      <td>S549</td>\n",
              "      <td>Cohort2</td>\n",
              "      <td>BPTB</td>\n",
              "      <td>3</td>\n",
              "      <td>IV</td>\n",
              "      <td>M</td>\n",
              "      <td>68</td>\n",
              "      <td>7.058209</td>\n",
              "      <td>156.241000</td>\n",
              "      <td>525.178000</td>\n",
              "      <td>0.52026</td>\n",
              "      <td>1.0</td>\n",
              "      <td>1.000</td>\n",
              "      <td>IV</td>\n",
              "    </tr>\n",
              "    <tr>\n",
              "      <th>195</th>\n",
              "      <td>S558</td>\n",
              "      <td>Cohort2</td>\n",
              "      <td>BPTB</td>\n",
              "      <td>3</td>\n",
              "      <td>IV</td>\n",
              "      <td>F</td>\n",
              "      <td>71</td>\n",
              "      <td>8.341207</td>\n",
              "      <td>16.915000</td>\n",
              "      <td>245.947000</td>\n",
              "      <td>0.85956</td>\n",
              "      <td>1.0</td>\n",
              "      <td>1.000</td>\n",
              "      <td>IV</td>\n",
              "    </tr>\n",
              "    <tr>\n",
              "      <th>196</th>\n",
              "      <td>S560</td>\n",
              "      <td>Cohort2</td>\n",
              "      <td>BPTB</td>\n",
              "      <td>3</td>\n",
              "      <td>IV</td>\n",
              "      <td>M</td>\n",
              "      <td>63</td>\n",
              "      <td>7.674707</td>\n",
              "      <td>289.701000</td>\n",
              "      <td>537.286000</td>\n",
              "      <td>1.36851</td>\n",
              "      <td>1.0</td>\n",
              "      <td>1.000</td>\n",
              "      <td>IV</td>\n",
              "    </tr>\n",
              "    <tr>\n",
              "      <th>197</th>\n",
              "      <td>S583</td>\n",
              "      <td>Cohort2</td>\n",
              "      <td>BPTB</td>\n",
              "      <td>3</td>\n",
              "      <td>IV</td>\n",
              "      <td>F</td>\n",
              "      <td>75</td>\n",
              "      <td>8.206777</td>\n",
              "      <td>205.930000</td>\n",
              "      <td>722.523000</td>\n",
              "      <td>1.33458</td>\n",
              "      <td>1.0</td>\n",
              "      <td>1.000</td>\n",
              "      <td>IV</td>\n",
              "    </tr>\n",
              "    <tr>\n",
              "      <th>198</th>\n",
              "      <td>S590</td>\n",
              "      <td>Cohort1</td>\n",
              "      <td>BPTB</td>\n",
              "      <td>3</td>\n",
              "      <td>IV</td>\n",
              "      <td>M</td>\n",
              "      <td>74</td>\n",
              "      <td>8.200958</td>\n",
              "      <td>411.938275</td>\n",
              "      <td>2021.321078</td>\n",
              "      <td>1.50423</td>\n",
              "      <td>1488.0</td>\n",
              "      <td>13200.000</td>\n",
              "      <td>IV</td>\n",
              "    </tr>\n",
              "  </tbody>\n",
              "</table>\n",
              "<p>199 rows × 14 columns</p>\n",
              "</div>\n",
              "      <button class=\"colab-df-convert\" onclick=\"convertToInteractive('df-38cb5d92-f9d2-4a14-a125-e234cea85c1a')\"\n",
              "              title=\"Convert this dataframe to an interactive table.\"\n",
              "              style=\"display:none;\">\n",
              "        \n",
              "  <svg xmlns=\"http://www.w3.org/2000/svg\" height=\"24px\"viewBox=\"0 0 24 24\"\n",
              "       width=\"24px\">\n",
              "    <path d=\"M0 0h24v24H0V0z\" fill=\"none\"/>\n",
              "    <path d=\"M18.56 5.44l.94 2.06.94-2.06 2.06-.94-2.06-.94-.94-2.06-.94 2.06-2.06.94zm-11 1L8.5 8.5l.94-2.06 2.06-.94-2.06-.94L8.5 2.5l-.94 2.06-2.06.94zm10 10l.94 2.06.94-2.06 2.06-.94-2.06-.94-.94-2.06-.94 2.06-2.06.94z\"/><path d=\"M17.41 7.96l-1.37-1.37c-.4-.4-.92-.59-1.43-.59-.52 0-1.04.2-1.43.59L10.3 9.45l-7.72 7.72c-.78.78-.78 2.05 0 2.83L4 21.41c.39.39.9.59 1.41.59.51 0 1.02-.2 1.41-.59l7.78-7.78 2.81-2.81c.8-.78.8-2.07 0-2.86zM5.41 20L4 18.59l7.72-7.72 1.47 1.35L5.41 20z\"/>\n",
              "  </svg>\n",
              "      </button>\n",
              "      \n",
              "  <style>\n",
              "    .colab-df-container {\n",
              "      display:flex;\n",
              "      flex-wrap:wrap;\n",
              "      gap: 12px;\n",
              "    }\n",
              "\n",
              "    .colab-df-convert {\n",
              "      background-color: #E8F0FE;\n",
              "      border: none;\n",
              "      border-radius: 50%;\n",
              "      cursor: pointer;\n",
              "      display: none;\n",
              "      fill: #1967D2;\n",
              "      height: 32px;\n",
              "      padding: 0 0 0 0;\n",
              "      width: 32px;\n",
              "    }\n",
              "\n",
              "    .colab-df-convert:hover {\n",
              "      background-color: #E2EBFA;\n",
              "      box-shadow: 0px 1px 2px rgba(60, 64, 67, 0.3), 0px 1px 3px 1px rgba(60, 64, 67, 0.15);\n",
              "      fill: #174EA6;\n",
              "    }\n",
              "\n",
              "    [theme=dark] .colab-df-convert {\n",
              "      background-color: #3B4455;\n",
              "      fill: #D2E3FC;\n",
              "    }\n",
              "\n",
              "    [theme=dark] .colab-df-convert:hover {\n",
              "      background-color: #434B5C;\n",
              "      box-shadow: 0px 1px 3px 1px rgba(0, 0, 0, 0.15);\n",
              "      filter: drop-shadow(0px 1px 2px rgba(0, 0, 0, 0.3));\n",
              "      fill: #FFFFFF;\n",
              "    }\n",
              "  </style>\n",
              "\n",
              "      <script>\n",
              "        const buttonEl =\n",
              "          document.querySelector('#df-38cb5d92-f9d2-4a14-a125-e234cea85c1a button.colab-df-convert');\n",
              "        buttonEl.style.display =\n",
              "          google.colab.kernel.accessAllowed ? 'block' : 'none';\n",
              "\n",
              "        async function convertToInteractive(key) {\n",
              "          const element = document.querySelector('#df-38cb5d92-f9d2-4a14-a125-e234cea85c1a');\n",
              "          const dataTable =\n",
              "            await google.colab.kernel.invokeFunction('convertToInteractive',\n",
              "                                                     [key], {});\n",
              "          if (!dataTable) return;\n",
              "\n",
              "          const docLinkHtml = 'Like what you see? Visit the ' +\n",
              "            '<a target=\"_blank\" href=https://colab.research.google.com/notebooks/data_table.ipynb>data table notebook</a>'\n",
              "            + ' to learn more about interactive tables.';\n",
              "          element.innerHTML = '';\n",
              "          dataTable['output_type'] = 'display_data';\n",
              "          await google.colab.output.renderOutput(dataTable, element);\n",
              "          const docLink = document.createElement('div');\n",
              "          docLink.innerHTML = docLinkHtml;\n",
              "          element.appendChild(docLink);\n",
              "        }\n",
              "      </script>\n",
              "    </div>\n",
              "  </div>\n",
              "  "
            ]
          },
          "metadata": {},
          "execution_count": 139
        }
      ],
      "source": [
        "dados"
      ]
    },
    {
      "cell_type": "code",
      "execution_count": 140,
      "metadata": {
        "colab": {
          "base_uri": "https://localhost:8080/",
          "height": 0
        },
        "id": "_rDad23J4nVK",
        "outputId": "fe9744b0-a6fb-4dcd-ace6-01b5a672c59d"
      },
      "outputs": [
        {
          "output_type": "execute_result",
          "data": {
            "text/plain": [
              "(array(['I', 'II', 'III', 'IV'], dtype=object), array([16, 86, 76, 21]))"
            ]
          },
          "metadata": {},
          "execution_count": 140
        }
      ],
      "source": [
        "#Avaliar o número de amostras para cada classe(estadiamento)\n",
        "import numpy as np\n",
        "np.unique(dados['stage2'], return_counts = True)"
      ]
    },
    {
      "cell_type": "code",
      "execution_count": 141,
      "metadata": {
        "colab": {
          "base_uri": "https://localhost:8080/",
          "height": 361
        },
        "id": "mPaQPJPb7p1U",
        "outputId": "e50c0fe2-2414-42f4-bb98-b4fe2864ece8"
      },
      "outputs": [
        {
          "output_type": "display_data",
          "data": {
            "text/plain": [
              "<Figure size 576x396 with 1 Axes>"
            ],
            "image/png": "[encoded data removed]"
          },
          "metadata": {}
        }
      ],
      "source": [
        "#Gerar um gráfico para avaliar visualmente o número de amostras para cada classe, objetivo é avaliar se os dados estão balanceados.\n",
        "import seaborn as sns\n",
        "sns.countplot(x = dados['stage2']);"
      ]
    },
    {
      "cell_type": "markdown",
      "metadata": {
        "id": "H3BuxkaKzWCx"
      },
      "source": [
        "# **C3-01. KnnClassifier**{*Unbalanced*} => 0.425"
      ]
    },
    {
      "cell_type": "code",
      "execution_count": 142,
      "metadata": {
        "colab": {
          "base_uri": "https://localhost:8080/",
          "height": 0
        },
        "id": "Vvp9U02RnAoZ",
        "outputId": "0c49ca53-0d29-4849-f4b7-67ed83992b96"
      },
      "outputs": [
        {
          "output_type": "execute_result",
          "data": {
            "text/plain": [
              "((159, 9), (40, 9))"
            ]
          },
          "metadata": {},
          "execution_count": 142
        }
      ],
      "source": [
        "#PREPARAR OS DADOS ==> Importar e tratar os dados\n",
        "import pandas as pd\n",
        "\n",
        "# Importando o Arquivo\n",
        "dados = pd.read_csv(\"dataMODIFICADOv10F.csv\", sep=\",\")\n",
        "\n",
        "#Transformando os nulos para 0\n",
        "dados = dados.fillna(1, inplace= False) \n",
        "\n",
        "#Separando as variaveis de interesse | sex\tage\tLYVE1\tREG1B\tTFF1\tcreatinine\tplasma_CA19_9\tREG1A\t\n",
        "X_dados = dados.iloc[:,5:13].values\n",
        "X_dados \n",
        "\n",
        "#Separando a classe alvo | stage2\n",
        "y_dados = dados.iloc[:,13].values\n",
        "y_dados\n",
        "\n",
        "# Tratando as colunas que São rotulos | sex\n",
        "from sklearn.preprocessing import LabelEncoder\n",
        "\n",
        "label_encoder_sex = LabelEncoder()\n",
        "X_dados[:,0] = label_encoder_sex.fit_transform(X_dados[:,0])\n",
        "X_dados\n",
        "\n",
        "#Onehot\n",
        "from sklearn.preprocessing import OneHotEncoder\n",
        "from sklearn.compose import ColumnTransformer\n",
        "\n",
        "onehotencorder = ColumnTransformer(transformers=[(\"OneHot\", OneHotEncoder(), [0])],remainder='passthrough')\n",
        "X_dados = onehotencorder.fit_transform(X_dados)\n",
        "X_dados\n",
        "\n",
        "#ESCALONAMENTO DE ATRIBUTOS\n",
        "from sklearn.preprocessing import StandardScaler\n",
        "scaler_dados = StandardScaler()\n",
        "X_dados = scaler_dados.fit_transform(X_dados)\n",
        "\n",
        "\n",
        "#Separação dos dados SEM o balanceamento\n",
        "from sklearn.model_selection import train_test_split\n",
        "\n",
        "X_dados_train , X_dados_test, y_dados_train, y_dados_test = train_test_split(X_dados, y_dados, test_size=0.2, random_state=0)\n",
        "X_dados_train.shape, X_dados_test.shape\n"
      ]
    },
    {
      "cell_type": "code",
      "execution_count": 143,
      "metadata": {
        "id": "ZuMKk6VIzYyS"
      },
      "outputs": [],
      "source": [
        "#KNN CLASSIFICADOR\n",
        "from sklearn.neighbors import KNeighborsClassifier\n",
        "from sklearn.metrics import classification_report, confusion_matrix,plot_confusion_matrix\n",
        "from sklearn.preprocessing import StandardScaler"
      ]
    },
    {
      "cell_type": "code",
      "execution_count": 144,
      "metadata": {
        "colab": {
          "base_uri": "https://localhost:8080/",
          "height": 0
        },
        "id": "SSg6zZ8h11mN",
        "outputId": "b494552d-afa1-4fec-8733-64cc1ec5da49"
      },
      "outputs": [
        {
          "output_type": "execute_result",
          "data": {
            "text/plain": [
              "KNeighborsClassifier(p=3)"
            ]
          },
          "metadata": {},
          "execution_count": 144
        }
      ],
      "source": [
        "knn_modelc = KNeighborsClassifier(n_neighbors=5, metric='minkowski', p = 3)\n",
        "knn_modelc.fit(X_dados_train, y_dados_train)"
      ]
    },
    {
      "cell_type": "code",
      "execution_count": 145,
      "metadata": {
        "id": "GOeek73n2Bvn"
      },
      "outputs": [],
      "source": [
        "previsoes = knn_modelc.predict(X_dados_test)\n",
        "previsoes1 = previsoes\n",
        "yprev1train = y_dados_test "
      ]
    },
    {
      "cell_type": "code",
      "execution_count": 146,
      "metadata": {
        "colab": {
          "base_uri": "https://localhost:8080/",
          "height": 0
        },
        "id": "xqMsiFQe2HUp",
        "outputId": "bf2cc261-f260-4adb-e841-792ff74634d0"
      },
      "outputs": [
        {
          "output_type": "execute_result",
          "data": {
            "text/plain": [
              "array(['II', 'III', 'III', 'II', 'III', 'IV', 'I', 'III', 'I', 'III',\n",
              "       'II', 'III', 'III', 'III', 'II', 'I', 'II', 'III', 'II', 'II',\n",
              "       'III', 'III', 'II', 'III', 'II', 'III', 'IV', 'IV', 'II', 'II',\n",
              "       'II', 'II', 'II', 'III', 'II', 'IV', 'III', 'I', 'III', 'IV'],\n",
              "      dtype=object)"
            ]
          },
          "metadata": {},
          "execution_count": 146
        }
      ],
      "source": [
        "y_dados_test"
      ]
    },
    {
      "cell_type": "code",
      "execution_count": 147,
      "metadata": {
        "colab": {
          "base_uri": "https://localhost:8080/",
          "height": 0
        },
        "id": "quZRHK2u2bLa",
        "outputId": "2638a7b3-265c-4bef-9640-536e7d2559ed"
      },
      "outputs": [
        {
          "output_type": "execute_result",
          "data": {
            "text/plain": [
              "0.425"
            ]
          },
          "metadata": {},
          "execution_count": 147
        }
      ],
      "source": [
        "from sklearn.metrics import accuracy_score, classification_report\n",
        "accuracy_score(y_dados_test, previsoes) # padronização"
      ]
    },
    {
      "cell_type": "code",
      "execution_count": 148,
      "metadata": {
        "colab": {
          "base_uri": "https://localhost:8080/",
          "height": 365
        },
        "id": "B_83NeoZ2hqy",
        "outputId": "fd166e01-b515-45c7-a322-85fa06d98429"
      },
      "outputs": [
        {
          "output_type": "execute_result",
          "data": {
            "text/plain": [
              "0.425"
            ]
          },
          "metadata": {},
          "execution_count": 148
        },
        {
          "output_type": "display_data",
          "data": {
            "text/plain": [
              "<Figure size 576x396 with 1 Axes>"
            ],
            "image/png": "[encoded data removed]"
          },
          "metadata": {}
        }
      ],
      "source": [
        "from yellowbrick.classifier import ConfusionMatrix\n",
        "cm = ConfusionMatrix(knn_modelc)\n",
        "cm.fit(X_dados_train, y_dados_train)\n",
        "cm.score(X_dados_test, y_dados_test)"
      ]
    },
    {
      "cell_type": "code",
      "execution_count": 149,
      "metadata": {
        "colab": {
          "base_uri": "https://localhost:8080/",
          "height": 0
        },
        "id": "oR39rip5M1l7",
        "outputId": "9d25ce88-d364-4ff9-fc89-5ca39a69a3c0"
      },
      "outputs": [
        {
          "output_type": "stream",
          "name": "stdout",
          "text": [
            "              precision    recall  f1-score   support\n",
            "\n",
            "           I       0.00      0.00      0.00         4\n",
            "          II       0.42      0.73      0.54        15\n",
            "         III       0.45      0.31      0.37        16\n",
            "          IV       1.00      0.20      0.33         5\n",
            "\n",
            "    accuracy                           0.42        40\n",
            "   macro avg       0.47      0.31      0.31        40\n",
            "weighted avg       0.47      0.42      0.39        40\n",
            "\n"
          ]
        }
      ],
      "source": [
        "print(classification_report(y_dados_test, previsoes))"
      ]
    },
    {
      "cell_type": "markdown",
      "metadata": {
        "id": "FCedH6fgrYrl"
      },
      "source": [
        "# **C3-02. RandomForestClassifier**{*Unbalanced*} => 0.575"
      ]
    },
    {
      "cell_type": "code",
      "execution_count": 150,
      "metadata": {
        "id": "3HHihyrfzx_2"
      },
      "outputs": [],
      "source": [
        "#PREPARAR OS DADOS ==> Importar e tratar os dados\n",
        "import pandas as pd\n",
        "\n",
        "# Importando o Arquivo\n",
        "dados = pd.read_csv(\"dataMODIFICADOv10F.csv\", sep=\",\")\n",
        "\n",
        "#Transformando os nulos para 0\n",
        "dados = dados.fillna(1, inplace= False) \n",
        "\n",
        "#Separando as variaveis de interesse | sex\tage\tLYVE1\tREG1B\tTFF1\tcreatinine\tplasma_CA19_9\tREG1A\t\n",
        "X_dados = dados.iloc[:,5:13].values\n",
        "X_dados \n",
        "\n",
        "#Separando a classe alvo | stage2\n",
        "y_dados = dados.iloc[:,13].values\n",
        "y_dados\n",
        "\n",
        "# Tratando as colunas que São rotulos | sex\n",
        "from sklearn.preprocessing import LabelEncoder\n",
        "\n",
        "label_encoder_sex = LabelEncoder()\n",
        "X_dados[:,0] = label_encoder_sex.fit_transform(X_dados[:,0])\n",
        "X_dados\n",
        "\n",
        "#Onehot\n",
        "from sklearn.preprocessing import OneHotEncoder\n",
        "from sklearn.compose import ColumnTransformer\n",
        "\n",
        "onehotencorder = ColumnTransformer(transformers=[(\"OneHot\", OneHotEncoder(), [0])],remainder='passthrough')\n",
        "X_dados = onehotencorder.fit_transform(X_dados)\n",
        "X_dados\n",
        "\n",
        "#ESCALONAMENTO DE ATRIBUTOS\n",
        "from sklearn.preprocessing import StandardScaler\n",
        "scaler_dados = StandardScaler()\n",
        "X_dados = scaler_dados.fit_transform(X_dados)\n",
        "\n",
        "\n",
        "#Separação dos dados SEM o balanceamento\n",
        "from sklearn.model_selection import train_test_split\n",
        "\n",
        "X_dados_train , X_dados_test, y_dados_train, y_dados_test = train_test_split(X_dados, y_dados, test_size=0.2, random_state=0)\n",
        "X_dados_train.shape, X_dados_test.shape\n",
        "X_random_forest_dados_sb_teste = X_dados_test\n",
        "y_random_forest_dados_sb_teste = y_dados_test"
      ]
    },
    {
      "cell_type": "code",
      "execution_count": 151,
      "metadata": {
        "colab": {
          "base_uri": "https://localhost:8080/",
          "height": 0
        },
        "id": "wy4wTtNjpddq",
        "outputId": "605d6043-6b93-451d-fda4-ec10fb44563a"
      },
      "outputs": [
        {
          "output_type": "execute_result",
          "data": {
            "text/plain": [
              "RandomForestClassifier(criterion='entropy', min_samples_split=5,\n",
              "                       n_estimators=200, random_state=0)"
            ]
          },
          "metadata": {},
          "execution_count": 151
        }
      ],
      "source": [
        "#RANDOM FOREST CLASSIFIER\n",
        "\n",
        "from sklearn.ensemble import RandomForestClassifier\n",
        "random_forest_dados_sb = RandomForestClassifier(criterion = 'entropy', min_samples_leaf =  1, min_samples_split = 5, n_estimators = 200, random_state=0)\n",
        "random_forest_dados_sb.fit(X_dados_train, y_dados_train)\n"
      ]
    },
    {
      "cell_type": "code",
      "execution_count": 152,
      "metadata": {
        "colab": {
          "base_uri": "https://localhost:8080/",
          "height": 0
        },
        "id": "9aSjYsgjpfnq",
        "outputId": "40b5c0b3-4d96-47b0-d58c-8e511dc6fb3b"
      },
      "outputs": [
        {
          "output_type": "execute_result",
          "data": {
            "text/plain": [
              "0.575"
            ]
          },
          "metadata": {},
          "execution_count": 152
        }
      ],
      "source": [
        "from sklearn.metrics import accuracy_score, classification_report\n",
        "previsoes = random_forest_dados_sb.predict(X_dados_test)\n",
        "accuracy_score(y_dados_test, previsoes)"
      ]
    },
    {
      "cell_type": "code",
      "execution_count": 153,
      "metadata": {
        "colab": {
          "base_uri": "https://localhost:8080/",
          "height": 365
        },
        "id": "eHgFQP97OXd1",
        "outputId": "9a989cde-6c9a-4386-b65b-2232e377a39b"
      },
      "outputs": [
        {
          "output_type": "execute_result",
          "data": {
            "text/plain": [
              "0.575"
            ]
          },
          "metadata": {},
          "execution_count": 153
        },
        {
          "output_type": "display_data",
          "data": {
            "text/plain": [
              "<Figure size 576x396 with 1 Axes>"
            ],
            "image/png": "[encoded data removed]"
          },
          "metadata": {}
        }
      ],
      "source": [
        "from yellowbrick.classifier import ConfusionMatrix\n",
        "cm = ConfusionMatrix(random_forest_dados_sb)\n",
        "cm.fit(X_dados_train, y_dados_train)\n",
        "cm.score(X_dados_test, y_dados_test)"
      ]
    },
    {
      "cell_type": "code",
      "execution_count": 154,
      "metadata": {
        "colab": {
          "base_uri": "https://localhost:8080/",
          "height": 0
        },
        "id": "84lzPMPDrsyJ",
        "outputId": "01d8f4fb-8bc7-4ad4-dd24-d9441fec9e1d"
      },
      "outputs": [
        {
          "output_type": "stream",
          "name": "stdout",
          "text": [
            "              precision    recall  f1-score   support\n",
            "\n",
            "           I       0.50      0.25      0.33         4\n",
            "          II       0.50      0.80      0.62        15\n",
            "         III       0.67      0.50      0.57        16\n",
            "          IV       1.00      0.40      0.57         5\n",
            "\n",
            "    accuracy                           0.57        40\n",
            "   macro avg       0.67      0.49      0.52        40\n",
            "weighted avg       0.63      0.57      0.56        40\n",
            "\n"
          ]
        }
      ],
      "source": [
        "print(classification_report(y_dados_test, previsoes))"
      ]
    },
    {
      "cell_type": "markdown",
      "metadata": {
        "id": "9yYjOsLxurKB"
      },
      "source": [
        "\n",
        "# **C3-03. SVM**{Unbalanced} => *0.575*, liner, 1, 1 | 0.575, sigmoid, 1, 1\n"
      ]
    },
    {
      "cell_type": "code",
      "source": [
        "#PREPARAR OS DADOS ==> Importar e tratar os dados\n",
        "import pandas as pd\n",
        "\n",
        "# Importando o Arquivo\n",
        "dados = pd.read_csv(\"dataMODIFICADOv10F.csv\", sep=\",\")\n",
        "\n",
        "#Transformando os nulos para 0\n",
        "dados = dados.fillna(1, inplace= False) \n",
        "\n",
        "#Separando as variaveis de interesse | sex\tage\tLYVE1\tREG1B\tTFF1\tcreatinine\tplasma_CA19_9\tREG1A\t\n",
        "X_dados = dados.iloc[:,5:13].values\n",
        "X_dados \n",
        "\n",
        "#Separando a classe alvo | stage2\n",
        "y_dados = dados.iloc[:,13].values\n",
        "y_dados\n",
        "\n",
        "# Tratando as colunas que São rotulos | sex\n",
        "from sklearn.preprocessing import LabelEncoder\n",
        "\n",
        "label_encoder_sex = LabelEncoder()\n",
        "X_dados[:,0] = label_encoder_sex.fit_transform(X_dados[:,0])\n",
        "X_dados\n",
        "\n",
        "#Onehot\n",
        "from sklearn.preprocessing import OneHotEncoder\n",
        "from sklearn.compose import ColumnTransformer\n",
        "\n",
        "onehotencorder = ColumnTransformer(transformers=[(\"OneHot\", OneHotEncoder(), [0])],remainder='passthrough')\n",
        "X_dados = onehotencorder.fit_transform(X_dados)\n",
        "X_dados\n",
        "\n",
        "#ESCALONAMENTO DE ATRIBUTOS\n",
        "from sklearn.preprocessing import StandardScaler\n",
        "scaler_dados = StandardScaler() #(with_mean=False)\n",
        "X_dados = scaler_dados.fit_transform(X_dados)\n",
        "\n",
        "\n",
        "#Separação dos dados SEM o balanceamento\n",
        "from sklearn.model_selection import train_test_split\n",
        "\n",
        "X_dados_train , X_dados_test, y_dados_train, y_dados_test = train_test_split(X_dados, y_dados, test_size=0.2, random_state=5)\n",
        "X_dados_train.shape, X_dados_test.shape\n"
      ],
      "metadata": {
        "colab": {
          "base_uri": "https://localhost:8080/",
          "height": 0
        },
        "id": "Jj7ySXPG8Ecn",
        "outputId": "64660eea-054d-4923-ee72-f16741aae9c0"
      },
      "execution_count": 155,
      "outputs": [
        {
          "output_type": "execute_result",
          "data": {
            "text/plain": [
              "((159, 9), (40, 9))"
            ]
          },
          "metadata": {},
          "execution_count": 155
        }
      ]
    },
    {
      "cell_type": "code",
      "source": [
        "from sklearn.svm import SVC\n"
      ],
      "metadata": {
        "id": "PNhC-qZ48XsR"
      },
      "execution_count": 156,
      "outputs": []
    },
    {
      "cell_type": "code",
      "source": [
        "svm_dados = SVC(kernel='linear', random_state=1, C = 1.0) # 2 -> 4\n",
        "svm_dados.fit(X_dados_train, y_dados_train)"
      ],
      "metadata": {
        "colab": {
          "base_uri": "https://localhost:8080/",
          "height": 0
        },
        "id": "dpSdzovJ8bMf",
        "outputId": "9bbe19c4-17f3-47de-ca9e-172b262c7fa6"
      },
      "execution_count": 157,
      "outputs": [
        {
          "output_type": "execute_result",
          "data": {
            "text/plain": [
              "SVC(kernel='linear', random_state=1)"
            ]
          },
          "metadata": {},
          "execution_count": 157
        }
      ]
    },
    {
      "cell_type": "code",
      "source": [
        "previsoes = svm_dados.predict(X_dados_test)\n",
        "previsoes"
      ],
      "metadata": {
        "colab": {
          "base_uri": "https://localhost:8080/",
          "height": 0
        },
        "id": "6CT1gIfi8fcX",
        "outputId": "5592fd70-7733-440a-edb3-d9c1e15b68e4"
      },
      "execution_count": 158,
      "outputs": [
        {
          "output_type": "execute_result",
          "data": {
            "text/plain": [
              "array(['II', 'II', 'II', 'III', 'III', 'III', 'II', 'II', 'III', 'II',\n",
              "       'III', 'II', 'II', 'II', 'III', 'II', 'II', 'II', 'II', 'II', 'II',\n",
              "       'II', 'II', 'III', 'II', 'II', 'II', 'III', 'II', 'II', 'II', 'II',\n",
              "       'II', 'II', 'II', 'II', 'II', 'III', 'III', 'II'], dtype=object)"
            ]
          },
          "metadata": {},
          "execution_count": 158
        }
      ]
    },
    {
      "cell_type": "code",
      "source": [
        "y_dados_test"
      ],
      "metadata": {
        "colab": {
          "base_uri": "https://localhost:8080/",
          "height": 0
        },
        "id": "mj_djhQH8jC7",
        "outputId": "6c0cb973-6000-48b1-89a4-6530d8ea0559"
      },
      "execution_count": 159,
      "outputs": [
        {
          "output_type": "execute_result",
          "data": {
            "text/plain": [
              "array(['III', 'II', 'III', 'III', 'III', 'III', 'III', 'I', 'II', 'II',\n",
              "       'IV', 'II', 'II', 'II', 'II', 'III', 'I', 'II', 'III', 'III', 'IV',\n",
              "       'II', 'II', 'III', 'II', 'II', 'III', 'II', 'II', 'II', 'II',\n",
              "       'III', 'II', 'III', 'II', 'II', 'IV', 'III', 'III', 'II'],\n",
              "      dtype=object)"
            ]
          },
          "metadata": {},
          "execution_count": 159
        }
      ]
    },
    {
      "cell_type": "code",
      "source": [
        "from sklearn.metrics import accuracy_score, classification_report \n",
        "#0.575, liner, 1, 1 | 0.425, poly, 1, 1 | #0.475, sigmoid, 1, 1 | 0.425, rbf, 1, 1\n",
        "accuracy_score(y_dados_test, previsoes)"
      ],
      "metadata": {
        "colab": {
          "base_uri": "https://localhost:8080/",
          "height": 0
        },
        "id": "yHgnhHzu8mvH",
        "outputId": "a7119458-bf10-48e6-b692-24e7380d3217"
      },
      "execution_count": 160,
      "outputs": [
        {
          "output_type": "execute_result",
          "data": {
            "text/plain": [
              "0.575"
            ]
          },
          "metadata": {},
          "execution_count": 160
        }
      ]
    },
    {
      "cell_type": "code",
      "source": [
        "from yellowbrick.classifier import ConfusionMatrix\n",
        "cm = ConfusionMatrix(svm_dados)\n",
        "cm.fit(X_dados_train, y_dados_train)\n",
        "cm.score(X_dados_test, y_dados_test)"
      ],
      "metadata": {
        "colab": {
          "base_uri": "https://localhost:8080/",
          "height": 365
        },
        "id": "iZQbxjmx8ovT",
        "outputId": "a9c5cc44-e0fb-46b2-95e6-8324cd2e6ed9"
      },
      "execution_count": 161,
      "outputs": [
        {
          "output_type": "execute_result",
          "data": {
            "text/plain": [
              "0.575"
            ]
          },
          "metadata": {},
          "execution_count": 161
        },
        {
          "output_type": "display_data",
          "data": {
            "text/plain": [
              "<Figure size 576x396 with 1 Axes>"
            ],
            "image/png": "[encoded data removed]"
          },
          "metadata": {}
        }
      ]
    },
    {
      "cell_type": "code",
      "source": [
        "print(classification_report(y_dados_test, previsoes))"
      ],
      "metadata": {
        "colab": {
          "base_uri": "https://localhost:8080/",
          "height": 0
        },
        "id": "c1wyG9xM8sLl",
        "outputId": "d011a275-96af-44d1-f2e6-73a521e7a4af"
      },
      "execution_count": 162,
      "outputs": [
        {
          "output_type": "stream",
          "name": "stdout",
          "text": [
            "              precision    recall  f1-score   support\n",
            "\n",
            "           I       0.00      0.00      0.00         2\n",
            "          II       0.57      0.85      0.68        20\n",
            "         III       0.60      0.40      0.48        15\n",
            "          IV       0.00      0.00      0.00         3\n",
            "\n",
            "    accuracy                           0.57        40\n",
            "   macro avg       0.29      0.31      0.29        40\n",
            "weighted avg       0.51      0.57      0.52        40\n",
            "\n"
          ]
        },
        {
          "output_type": "stream",
          "name": "stderr",
          "text": [
            "/usr/local/lib/python3.7/dist-packages/sklearn/metrics/_classification.py:1318: UndefinedMetricWarning:\n",
            "\n",
            "Precision and F-score are ill-defined and being set to 0.0 in labels with no predicted samples. Use `zero_division` parameter to control this behavior.\n",
            "\n",
            "/usr/local/lib/python3.7/dist-packages/sklearn/metrics/_classification.py:1318: UndefinedMetricWarning:\n",
            "\n",
            "Precision and F-score are ill-defined and being set to 0.0 in labels with no predicted samples. Use `zero_division` parameter to control this behavior.\n",
            "\n",
            "/usr/local/lib/python3.7/dist-packages/sklearn/metrics/_classification.py:1318: UndefinedMetricWarning:\n",
            "\n",
            "Precision and F-score are ill-defined and being set to 0.0 in labels with no predicted samples. Use `zero_division` parameter to control this behavior.\n",
            "\n"
          ]
        }
      ]
    },
    {
      "cell_type": "markdown",
      "source": [
        "---\n",
        "# **Cenário 4:**{ Biomarcadores com Idade e Sexo | Dados Não balanceados}\n",
        "---"
      ],
      "metadata": {
        "id": "Te6_WqQX9RA2"
      }
    },
    {
      "cell_type": "markdown",
      "metadata": {
        "id": "GxNIeiRc38K-"
      },
      "source": [
        "# **02. KnnClassifier**{*Balanced*}0.608"
      ]
    },
    {
      "cell_type": "code",
      "execution_count": 163,
      "metadata": {
        "colab": {
          "base_uri": "https://localhost:8080/",
          "height": 364
        },
        "id": "CwwGe_q00-iH",
        "outputId": "363b0e31-c488-4daa-d3fb-8bcaa11bc514"
      },
      "outputs": [
        {
          "output_type": "execute_result",
          "data": {
            "text/plain": [
              "((275, 82), (69, 82))"
            ]
          },
          "metadata": {},
          "execution_count": 163
        },
        {
          "output_type": "display_data",
          "data": {
            "text/plain": [
              "<Figure size 576x396 with 1 Axes>"
            ],
            "image/png": "[encoded data removed]"
          },
          "metadata": {}
        }
      ],
      "source": [
        "#PREPARAR OS DADOS ==> Importar e tratar os dados\n",
        "import pandas as pd\n",
        "\n",
        "# Importando o Arquivo\n",
        "dados = pd.read_csv(\"dataMODIFICADOv10F.csv\", sep=\",\")\n",
        "\n",
        "#Transformando os nulos para 0\n",
        "dados = dados.fillna(1, inplace= False) \n",
        "\n",
        "#Separando as variaveis de interesse | sex\tage\tLYVE1\tREG1B\tTFF1\tcreatinine\tplasma_CA19_9\tREG1A\t\n",
        "X_dados = dados.iloc[:,5:13].values\n",
        "X_dados \n",
        "\n",
        "#Separando a classe alvo | stage2\n",
        "y_dados = dados.iloc[:,13].values\n",
        "y_dados\n",
        "\n",
        "# Tratando as colunas que São rotulos | sex\n",
        "from sklearn.preprocessing import LabelEncoder\n",
        "\n",
        "label_encoder_sex = LabelEncoder()\n",
        "X_dados[:,0] = label_encoder_sex.fit_transform(X_dados[:,0])\n",
        "X_dados\n",
        "\n",
        "# Sobreamostragem com SMOTE\n",
        "from imblearn.over_sampling import SMOTE\n",
        "import numpy as np\n",
        "\n",
        "smote = SMOTE(sampling_strategy='not majority', random_state=3)\n",
        "X_over, y_over = smote.fit_resample(X_dados, y_dados)\n",
        "\n",
        "#y_over.shape, X_over.shape\n",
        "np.unique(y_dados, return_counts = True), np.unique(y_over, return_counts = True)\n",
        "\n",
        "import seaborn as sns\n",
        "sns.countplot(x = y_over);\n",
        "\n",
        "from sklearn.preprocessing import OneHotEncoder\n",
        "from sklearn.compose import ColumnTransformer\n",
        "onehotencorder = ColumnTransformer(transformers=[(\"OneHot\", OneHotEncoder(), [0])],remainder='passthrough')\n",
        "X_dados = onehotencorder.fit_transform(X_over).toarray()\n",
        "\n",
        "#X_dados, X_dados.shape\n",
        "\n",
        "#ESCALONAMENTO DE ATRIBUTOS\n",
        "from sklearn.preprocessing import StandardScaler\n",
        "scaler_dados = StandardScaler()\n",
        "X_dados = scaler_dados.fit_transform(X_dados)\n",
        "X_dados\n",
        "\n",
        "#Separação dos dados BALANCEADOS\n",
        "from sklearn.model_selection import train_test_split\n",
        "\n",
        "X_dados_train_over, X_dados_test_over, y_dados_train_over, y_dados_test_over = train_test_split(X_dados, y_over, test_size=0.2, random_state=0)\n",
        "X_dados_train_over.shape, X_dados_test_over.shape\n"
      ]
    },
    {
      "cell_type": "code",
      "execution_count": 164,
      "metadata": {
        "id": "xgu8W9dd4CM-"
      },
      "outputs": [],
      "source": [
        "#Knn Classifier Balanced\n",
        "\n",
        "from sklearn.neighbors import KNeighborsClassifier\n",
        "from sklearn.metrics import classification_report, confusion_matrix,plot_confusion_matrix\n",
        "from sklearn.preprocessing import StandardScaler"
      ]
    },
    {
      "cell_type": "code",
      "execution_count": 165,
      "metadata": {
        "colab": {
          "base_uri": "https://localhost:8080/",
          "height": 0
        },
        "id": "oSDZkndO4Jhk",
        "outputId": "1695f7fd-2603-435e-fc86-3069c8d8906a"
      },
      "outputs": [
        {
          "output_type": "execute_result",
          "data": {
            "text/plain": [
              "KNeighborsClassifier()"
            ]
          },
          "metadata": {},
          "execution_count": 165
        }
      ],
      "source": [
        "knn_modelcb = KNeighborsClassifier(n_neighbors=5, metric='minkowski', p = 2)\n",
        "knn_modelcb.fit(X_dados_train_over, y_dados_train_over)"
      ]
    },
    {
      "cell_type": "code",
      "execution_count": 166,
      "metadata": {
        "colab": {
          "base_uri": "https://localhost:8080/",
          "height": 0
        },
        "id": "xuAla1qJ4OzT",
        "outputId": "e11ac29e-71ba-45e6-8984-426ea42cec7c"
      },
      "outputs": [
        {
          "output_type": "execute_result",
          "data": {
            "text/plain": [
              "array(['I', 'II', 'II', 'I', 'I', 'IV', 'IV', 'I', 'I', 'I', 'I', 'II',\n",
              "       'III', 'II', 'I', 'II', 'III', 'I', 'II', 'III', 'IV', 'II', 'I',\n",
              "       'III', 'I', 'I', 'III', 'I', 'II', 'I', 'I', 'IV', 'III', 'III',\n",
              "       'III', 'I', 'IV', 'IV', 'II', 'II', 'II', 'III', 'I', 'IV', 'IV',\n",
              "       'I', 'IV', 'III', 'IV', 'I', 'II', 'II', 'II', 'IV', 'III', 'I',\n",
              "       'III', 'III', 'I', 'I', 'II', 'II', 'I', 'IV', 'I', 'IV', 'II',\n",
              "       'I', 'IV'], dtype=object)"
            ]
          },
          "metadata": {},
          "execution_count": 166
        }
      ],
      "source": [
        "previsoes = knn_modelcb.predict(X_dados_test_over)\n",
        "previsoes"
      ]
    },
    {
      "cell_type": "code",
      "execution_count": 167,
      "metadata": {
        "colab": {
          "base_uri": "https://localhost:8080/",
          "height": 0
        },
        "id": "gxPUcax-4WcN",
        "outputId": "5a0e4ebc-c93d-491d-daf0-a3694f1670eb"
      },
      "outputs": [
        {
          "output_type": "execute_result",
          "data": {
            "text/plain": [
              "array(['III', 'I', 'II', 'I', 'II', 'IV', 'III', 'I', 'I', 'II', 'II',\n",
              "       'I', 'III', 'IV', 'I', 'II', 'II', 'I', 'II', 'I', 'IV', 'II', 'I',\n",
              "       'III', 'I', 'I', 'III', 'II', 'II', 'I', 'I', 'IV', 'II', 'II',\n",
              "       'III', 'IV', 'IV', 'III', 'II', 'II', 'III', 'II', 'II', 'IV',\n",
              "       'IV', 'I', 'IV', 'IV', 'III', 'I', 'II', 'II', 'III', 'III', 'III',\n",
              "       'I', 'II', 'IV', 'I', 'I', 'I', 'IV', 'II', 'IV', 'I', 'IV', 'II',\n",
              "       'I', 'IV'], dtype=object)"
            ]
          },
          "metadata": {},
          "execution_count": 167
        }
      ],
      "source": [
        "y_dados_test_over"
      ]
    },
    {
      "cell_type": "code",
      "execution_count": 168,
      "metadata": {
        "colab": {
          "base_uri": "https://localhost:8080/",
          "height": 0
        },
        "id": "0oEpDH1B4fXU",
        "outputId": "cd725a72-9deb-4464-94a1-d82229b09e59"
      },
      "outputs": [
        {
          "output_type": "execute_result",
          "data": {
            "text/plain": [
              "0.6086956521739131"
            ]
          },
          "metadata": {},
          "execution_count": 168
        }
      ],
      "source": [
        "from sklearn.metrics import accuracy_score, classification_report\n",
        "accuracy_score(y_dados_test_over, previsoes) # padronização"
      ]
    },
    {
      "cell_type": "code",
      "execution_count": 169,
      "metadata": {
        "colab": {
          "base_uri": "https://localhost:8080/",
          "height": 365
        },
        "id": "SfGBugCG4i4k",
        "outputId": "3906a5a8-319c-4d3b-f705-d5cebdd7f405"
      },
      "outputs": [
        {
          "output_type": "execute_result",
          "data": {
            "text/plain": [
              "0.6086956521739131"
            ]
          },
          "metadata": {},
          "execution_count": 169
        },
        {
          "output_type": "display_data",
          "data": {
            "text/plain": [
              "<Figure size 576x396 with 1 Axes>"
            ],
            "image/png": "[encoded data removed]"
          },
          "metadata": {}
        }
      ],
      "source": [
        "from yellowbrick.classifier import ConfusionMatrix\n",
        "cm = ConfusionMatrix(knn_modelcb)\n",
        "cm.fit(X_dados_train_over, y_dados_train_over)\n",
        "cm.score(X_dados_test_over, y_dados_test_over)"
      ]
    },
    {
      "cell_type": "code",
      "execution_count": 170,
      "metadata": {
        "colab": {
          "base_uri": "https://localhost:8080/",
          "height": 0
        },
        "id": "gD14FObh-k1C",
        "outputId": "8b3fc7a4-9235-4746-bea2-3b4db4071b31"
      },
      "outputs": [
        {
          "output_type": "stream",
          "name": "stdout",
          "text": [
            "              precision    recall  f1-score   support\n",
            "\n",
            "           I       0.68      0.81      0.74        21\n",
            "          II       0.59      0.48      0.53        21\n",
            "         III       0.38      0.42      0.40        12\n",
            "          IV       0.71      0.67      0.69        15\n",
            "\n",
            "    accuracy                           0.61        69\n",
            "   macro avg       0.59      0.59      0.59        69\n",
            "weighted avg       0.61      0.61      0.60        69\n",
            "\n"
          ]
        }
      ],
      "source": [
        "print(classification_report(y_dados_test_over, previsoes))"
      ]
    },
    {
      "cell_type": "markdown",
      "metadata": {
        "id": "XxgyPNGX3ylI"
      },
      "source": [
        "# ***04. RandomForestClassifier***{Balanced} => 0.81"
      ]
    },
    {
      "cell_type": "code",
      "execution_count": 171,
      "metadata": {
        "colab": {
          "base_uri": "https://localhost:8080/",
          "height": 364
        },
        "id": "klf-LVhMNGjc",
        "outputId": "48551e2c-9a28-410b-90c1-d30f08e0502d"
      },
      "outputs": [
        {
          "output_type": "execute_result",
          "data": {
            "text/plain": [
              "((275, 92), (69, 92))"
            ]
          },
          "metadata": {},
          "execution_count": 171
        },
        {
          "output_type": "display_data",
          "data": {
            "text/plain": [
              "<Figure size 576x396 with 1 Axes>"
            ],
            "image/png": "[encoded data removed]"
          },
          "metadata": {}
        }
      ],
      "source": [
        "#PREPARAR OS DADOS ==> Importar e tratar os dados\n",
        "import pandas as pd\n",
        "\n",
        "# Importando o Arquivo\n",
        "dados = pd.read_csv(\"dataMODIFICADOv10F.csv\", sep=\",\")\n",
        "\n",
        "#Transformando os nulos para 0\n",
        "dados = dados.fillna(1, inplace= False) \n",
        "\n",
        "#Separando as variaveis de interesse | sex\tage\tLYVE1\tREG1B\tTFF1\tcreatinine\tplasma_CA19_9\tREG1A\t\n",
        "X_dados = dados.iloc[:,5:13].values\n",
        "X_dados \n",
        "\n",
        "#Separando a classe alvo | stage2\n",
        "y_dados = dados.iloc[:,13].values\n",
        "y_dados\n",
        "\n",
        "# Tratando as colunas que São rotulos | sex\n",
        "from sklearn.preprocessing import LabelEncoder\n",
        "\n",
        "label_encoder_sex = LabelEncoder()\n",
        "X_dados[:,0] = label_encoder_sex.fit_transform(X_dados[:,0])\n",
        "X_dados\n",
        "\n",
        "# Sobreamostragem com SMOTE\n",
        "\n",
        "from imblearn.over_sampling import SMOTE\n",
        "smote = SMOTE(sampling_strategy='not majority', random_state=29)\n",
        "#9  0.7971014492753623\n",
        "\n",
        "X_over, y_over = smote.fit_resample(X_dados, y_dados)\n",
        "\n",
        "#y_over.shape, X_over.shape\n",
        "np.unique(y_dados, return_counts = True), np.unique(y_over, return_counts = True)\n",
        "\n",
        "import seaborn as sns\n",
        "sns.countplot(x = y_over);\n",
        "\n",
        "from sklearn.preprocessing import OneHotEncoder\n",
        "from sklearn.compose import ColumnTransformer\n",
        "onehotencorder = ColumnTransformer(transformers=[(\"OneHot\", OneHotEncoder(), [0])],remainder='passthrough')\n",
        "X_dados = onehotencorder.fit_transform(X_over).toarray()\n",
        "\n",
        "#X_dados, X_dados.shape\n",
        "\n",
        "#ESCALONAMENTO DE ATRIBUTOS\n",
        "from sklearn.preprocessing import StandardScaler\n",
        "scaler_dados = StandardScaler()\n",
        "X_dados = scaler_dados.fit_transform(X_dados)\n",
        "X_dados\n",
        "\n",
        "#Separação dos dados BALANCEADOS\n",
        "from sklearn.model_selection import train_test_split\n",
        "\n",
        "X_dados_train_over, X_dados_test_over, y_dados_train_over, y_dados_test_over = train_test_split(X_dados, y_over, test_size=0.2, random_state=0)\n",
        "X_dados_train_over.shape, X_dados_test_over.shape\n"
      ]
    },
    {
      "cell_type": "code",
      "execution_count": 172,
      "metadata": {
        "colab": {
          "base_uri": "https://localhost:8080/",
          "height": 0
        },
        "id": "yxwaoRK8kpEy",
        "outputId": "910c2616-dce9-47b4-a470-f9f63bc54713"
      },
      "outputs": [
        {
          "output_type": "execute_result",
          "data": {
            "text/plain": [
              "RandomForestClassifier(criterion='entropy', min_samples_split=5,\n",
              "                       n_estimators=200, random_state=17)"
            ]
          },
          "metadata": {},
          "execution_count": 172
        }
      ],
      "source": [
        "from sklearn.ensemble import RandomForestClassifier #1,6,300,10 -->0.681 | 1,5,200, 17 -->0.8115942028985508\n",
        "\n",
        "random_forest_dados = RandomForestClassifier(criterion = 'entropy', min_samples_leaf =  1, min_samples_split = 5, n_estimators = 200, random_state = 17 )\n",
        "random_forest_dados.fit(X_dados_train_over, y_dados_train_over)"
      ]
    },
    {
      "cell_type": "code",
      "execution_count": 173,
      "metadata": {
        "colab": {
          "base_uri": "https://localhost:8080/",
          "height": 0
        },
        "id": "WN5s6LAnlC4f",
        "outputId": "6424d17b-a8d7-4eb7-e5cb-28dd603a62df"
      },
      "outputs": [
        {
          "output_type": "execute_result",
          "data": {
            "text/plain": [
              "0.8115942028985508"
            ]
          },
          "metadata": {},
          "execution_count": 173
        }
      ],
      "source": [
        "from sklearn.metrics import accuracy_score, classification_report\n",
        "previsoes = random_forest_dados.predict(X_dados_test_over)\n",
        "accuracy_score(y_dados_test_over, previsoes)"
      ]
    },
    {
      "cell_type": "code",
      "execution_count": 174,
      "metadata": {
        "colab": {
          "base_uri": "https://localhost:8080/",
          "height": 365
        },
        "id": "RqKVj-EzbWyg",
        "outputId": "52f89a5e-0803-48b8-eb69-13cb26f7d9cf"
      },
      "outputs": [
        {
          "output_type": "execute_result",
          "data": {
            "text/plain": [
              "0.8115942028985508"
            ]
          },
          "metadata": {},
          "execution_count": 174
        },
        {
          "output_type": "display_data",
          "data": {
            "text/plain": [
              "<Figure size 576x396 with 1 Axes>"
            ],
            "image/png": "[encoded data removed]"
          },
          "metadata": {}
        }
      ],
      "source": [
        "from yellowbrick.classifier import ConfusionMatrix\n",
        "cm = ConfusionMatrix(random_forest_dados)\n",
        "cm.fit(X_dados_train_over, y_dados_train_over)\n",
        "cm.score(X_dados_test_over, y_dados_test_over)"
      ]
    },
    {
      "cell_type": "code",
      "execution_count": 175,
      "metadata": {
        "colab": {
          "base_uri": "https://localhost:8080/",
          "height": 0
        },
        "id": "0TKZldoDqWvc",
        "outputId": "74d23806-71a0-4b93-8116-2641a03e5755"
      },
      "outputs": [
        {
          "output_type": "stream",
          "name": "stdout",
          "text": [
            "              precision    recall  f1-score   support\n",
            "\n",
            "           I       0.90      0.90      0.90        21\n",
            "          II       0.80      0.57      0.67        21\n",
            "         III       0.62      0.83      0.71        12\n",
            "          IV       0.88      1.00      0.94        15\n",
            "\n",
            "    accuracy                           0.81        69\n",
            "   macro avg       0.80      0.83      0.81        69\n",
            "weighted avg       0.82      0.81      0.81        69\n",
            "\n"
          ]
        }
      ],
      "source": [
        "print(classification_report(y_dados_test_over, previsoes))"
      ]
    },
    {
      "cell_type": "code",
      "execution_count": 176,
      "metadata": {
        "colab": {
          "base_uri": "https://localhost:8080/",
          "height": 0
        },
        "id": "bNOJjTeVuuQ9",
        "outputId": "fbf48350-8986-440f-ac4e-729d949697e3"
      },
      "outputs": [
        {
          "output_type": "execute_result",
          "data": {
            "text/plain": [
              "((159, 9), (40, 9))"
            ]
          },
          "metadata": {},
          "execution_count": 176
        }
      ],
      "source": [
        "#PREPARAR OS DADOS ==> Importar e tratar os dados\n",
        "import pandas as pd\n",
        "\n",
        "# Importando o Arquivo\n",
        "dados = pd.read_csv(\"dataMODIFICADOv10F.csv\", sep=\",\")\n",
        "\n",
        "#Transformando os nulos para 0\n",
        "dados = dados.fillna(1, inplace= False) \n",
        "\n",
        "#Separando as variaveis de interesse | sex\tage\tLYVE1\tREG1B\tTFF1\tcreatinine\tplasma_CA19_9\tREG1A\t\n",
        "X_dados = dados.iloc[:,5:13].values\n",
        "X_dados \n",
        "\n",
        "#Separando a classe alvo | stage2\n",
        "y_dados = dados.iloc[:,13].values\n",
        "y_dados\n",
        "\n",
        "# Tratando as colunas que São rotulos | sex\n",
        "from sklearn.preprocessing import LabelEncoder\n",
        "\n",
        "label_encoder_sex = LabelEncoder()\n",
        "X_dados[:,0] = label_encoder_sex.fit_transform(X_dados[:,0])\n",
        "X_dados\n",
        "\n",
        "#Onehot\n",
        "from sklearn.preprocessing import OneHotEncoder\n",
        "from sklearn.compose import ColumnTransformer\n",
        "\n",
        "onehotencorder = ColumnTransformer(transformers=[(\"OneHot\", OneHotEncoder(), [0])],remainder='passthrough')\n",
        "X_dados = onehotencorder.fit_transform(X_dados)\n",
        "X_dados\n",
        "\n",
        "#ESCALONAMENTO DE ATRIBUTOS\n",
        "from sklearn.preprocessing import StandardScaler\n",
        "scaler_dados = StandardScaler()\n",
        "X_dados = scaler_dados.fit_transform(X_dados)\n",
        "\n",
        "\n",
        "#Separação dos dados SEM o balanceamento\n",
        "from sklearn.model_selection import train_test_split\n",
        "\n",
        "X_dados_train , X_dados_test, y_dados_train, y_dados_test = train_test_split(X_dados, y_dados, test_size=0.2, random_state=5)\n",
        "X_dados_train.shape, X_dados_test.shape\n"
      ]
    },
    {
      "cell_type": "code",
      "execution_count": 177,
      "metadata": {
        "id": "X9WUWevXu1Ji"
      },
      "outputs": [],
      "source": [
        "from sklearn.svm import SVC\n"
      ]
    },
    {
      "cell_type": "code",
      "execution_count": 178,
      "metadata": {
        "colab": {
          "base_uri": "https://localhost:8080/",
          "height": 0
        },
        "id": "4KgOs8z5xRCy",
        "outputId": "12810805-ff4c-4cae-9bb5-1b4da5dacced"
      },
      "outputs": [
        {
          "output_type": "execute_result",
          "data": {
            "text/plain": [
              "SVC(kernel='linear', random_state=1)"
            ]
          },
          "metadata": {},
          "execution_count": 178
        }
      ],
      "source": [
        "svm_dados = SVC(kernel='linear', random_state=1, C = 1.0) # 2 -> 4\n",
        "svm_dados.fit(X_dados_train, y_dados_train)"
      ]
    },
    {
      "cell_type": "code",
      "execution_count": 179,
      "metadata": {
        "colab": {
          "base_uri": "https://localhost:8080/",
          "height": 0
        },
        "id": "oQI1ExZNx1lg",
        "outputId": "ba0d1c2d-5595-4da5-b88a-17507252288d"
      },
      "outputs": [
        {
          "output_type": "execute_result",
          "data": {
            "text/plain": [
              "array(['II', 'II', 'II', 'III', 'III', 'III', 'II', 'II', 'III', 'II',\n",
              "       'III', 'II', 'II', 'II', 'III', 'II', 'II', 'II', 'II', 'II', 'II',\n",
              "       'II', 'II', 'III', 'II', 'II', 'II', 'III', 'II', 'II', 'II', 'II',\n",
              "       'II', 'II', 'II', 'II', 'II', 'III', 'III', 'II'], dtype=object)"
            ]
          },
          "metadata": {},
          "execution_count": 179
        }
      ],
      "source": [
        "previsoes = svm_dados.predict(X_dados_test)\n",
        "previsoes"
      ]
    },
    {
      "cell_type": "code",
      "execution_count": 180,
      "metadata": {
        "colab": {
          "base_uri": "https://localhost:8080/",
          "height": 0
        },
        "id": "g3v9ZM2cx75v",
        "outputId": "c53a1972-f7b8-46ef-f6c3-044775cfb7b6"
      },
      "outputs": [
        {
          "output_type": "execute_result",
          "data": {
            "text/plain": [
              "array(['III', 'II', 'III', 'III', 'III', 'III', 'III', 'I', 'II', 'II',\n",
              "       'IV', 'II', 'II', 'II', 'II', 'III', 'I', 'II', 'III', 'III', 'IV',\n",
              "       'II', 'II', 'III', 'II', 'II', 'III', 'II', 'II', 'II', 'II',\n",
              "       'III', 'II', 'III', 'II', 'II', 'IV', 'III', 'III', 'II'],\n",
              "      dtype=object)"
            ]
          },
          "metadata": {},
          "execution_count": 180
        }
      ],
      "source": [
        "y_dados_test"
      ]
    },
    {
      "cell_type": "code",
      "execution_count": 181,
      "metadata": {
        "colab": {
          "base_uri": "https://localhost:8080/",
          "height": 0
        },
        "id": "zYhip2iXyXfx",
        "outputId": "9a30aab7-210b-4167-fc80-586f36b5b03c"
      },
      "outputs": [
        {
          "output_type": "execute_result",
          "data": {
            "text/plain": [
              "0.575"
            ]
          },
          "metadata": {},
          "execution_count": 181
        }
      ],
      "source": [
        "from sklearn.metrics import accuracy_score, classification_report \n",
        "#0.575, liner, 1, 1 | 0.425, poly, 1, 1 | #0.475, sigmoid, 1, 1 | 0.425, rbf, 1, 1\n",
        "accuracy_score(y_dados_test, previsoes)"
      ]
    },
    {
      "cell_type": "code",
      "execution_count": 182,
      "metadata": {
        "colab": {
          "base_uri": "https://localhost:8080/",
          "height": 365
        },
        "id": "9UBNKPkfyphA",
        "outputId": "d4c3af1d-bdc5-409e-e727-4ee5d02784a6"
      },
      "outputs": [
        {
          "output_type": "execute_result",
          "data": {
            "text/plain": [
              "0.575"
            ]
          },
          "metadata": {},
          "execution_count": 182
        },
        {
          "output_type": "display_data",
          "data": {
            "text/plain": [
              "<Figure size 576x396 with 1 Axes>"
            ],
            "image/png": "[encoded data removed]"
          },
          "metadata": {}
        }
      ],
      "source": [
        "from yellowbrick.classifier import ConfusionMatrix\n",
        "cm = ConfusionMatrix(svm_dados)\n",
        "cm.fit(X_dados_train, y_dados_train)\n",
        "cm.score(X_dados_test, y_dados_test)"
      ]
    },
    {
      "cell_type": "code",
      "execution_count": 183,
      "metadata": {
        "colab": {
          "base_uri": "https://localhost:8080/",
          "height": 0
        },
        "id": "-eHUclVryrvL",
        "outputId": "9e1149f5-73b4-4305-dbfb-096dba840bf0"
      },
      "outputs": [
        {
          "output_type": "stream",
          "name": "stdout",
          "text": [
            "              precision    recall  f1-score   support\n",
            "\n",
            "           I       0.00      0.00      0.00         2\n",
            "          II       0.57      0.85      0.68        20\n",
            "         III       0.60      0.40      0.48        15\n",
            "          IV       0.00      0.00      0.00         3\n",
            "\n",
            "    accuracy                           0.57        40\n",
            "   macro avg       0.29      0.31      0.29        40\n",
            "weighted avg       0.51      0.57      0.52        40\n",
            "\n"
          ]
        },
        {
          "output_type": "stream",
          "name": "stderr",
          "text": [
            "/usr/local/lib/python3.7/dist-packages/sklearn/metrics/_classification.py:1318: UndefinedMetricWarning:\n",
            "\n",
            "Precision and F-score are ill-defined and being set to 0.0 in labels with no predicted samples. Use `zero_division` parameter to control this behavior.\n",
            "\n",
            "/usr/local/lib/python3.7/dist-packages/sklearn/metrics/_classification.py:1318: UndefinedMetricWarning:\n",
            "\n",
            "Precision and F-score are ill-defined and being set to 0.0 in labels with no predicted samples. Use `zero_division` parameter to control this behavior.\n",
            "\n",
            "/usr/local/lib/python3.7/dist-packages/sklearn/metrics/_classification.py:1318: UndefinedMetricWarning:\n",
            "\n",
            "Precision and F-score are ill-defined and being set to 0.0 in labels with no predicted samples. Use `zero_division` parameter to control this behavior.\n",
            "\n"
          ]
        }
      ],
      "source": [
        "print(classification_report(y_dados_test, previsoes))"
      ]
    },
    {
      "cell_type": "markdown",
      "metadata": {
        "id": "eGoD2mIZ2fLc"
      },
      "source": [
        "# **06. SVM**{Balanced} => 0.579, linear, 0, 10 |"
      ]
    },
    {
      "cell_type": "code",
      "execution_count": 184,
      "metadata": {
        "colab": {
          "base_uri": "https://localhost:8080/",
          "height": 382
        },
        "id": "mt8qMixm2pkD",
        "outputId": "7b3a4b40-da48-45ec-dac8-f5533c63bf33"
      },
      "outputs": [
        {
          "output_type": "execute_result",
          "data": {
            "text/plain": [
              "((array(['I', 'II', 'III', 'IV'], dtype=object), array([16, 86, 76, 21])),\n",
              " (array(['I', 'II', 'III', 'IV'], dtype=object), array([86, 86, 86, 86])))"
            ]
          },
          "metadata": {},
          "execution_count": 184
        },
        {
          "output_type": "display_data",
          "data": {
            "text/plain": [
              "<Figure size 576x396 with 1 Axes>"
            ],
            "image/png": "[encoded data removed]"
          },
          "metadata": {}
        }
      ],
      "source": [
        "#PREPARAR OS DADOS ==> Importar e tratar os dados\n",
        "import pandas as pd\n",
        "\n",
        "\n",
        "# Importando o Arquivo\n",
        "dados = pd.read_csv(\"dataMODIFICADOv10F.csv\", sep=\",\")\n",
        "\n",
        "#Transformando os nulos para 0\n",
        "dados = dados.fillna(1, inplace= False) \n",
        "\n",
        "#Separando as variaveis de interesse | sex\tage\tLYVE1\tREG1B\tTFF1\tcreatinine\tplasma_CA19_9\tREG1A\t\n",
        "X_dados = dados.iloc[:,5:13].values\n",
        "X_dados \n",
        "\n",
        "#Separando a classe alvo | stage2\n",
        "y_dados = dados.iloc[:,13].values\n",
        "y_dados\n",
        "\n",
        "# Tratando as colunas que São rotulos | sex\n",
        "from sklearn.preprocessing import LabelEncoder\n",
        "\n",
        "label_encoder_sex = LabelEncoder()\n",
        "X_dados[:,0] = label_encoder_sex.fit_transform(X_dados[:,0])\n",
        "X_dados\n",
        "\n",
        "# Sobreamostragem com SMOTE\n",
        "\n",
        "from imblearn.over_sampling import SMOTE\n",
        "import numpy as np\n",
        "\n",
        "lista = []\n",
        "count = 1\n",
        "\n",
        "smote = SMOTE(sampling_strategy='not majority', random_state=16)\n",
        "#2 - 47\n",
        "X_over, y_over = smote.fit_resample(X_dados, y_dados)\n",
        "\n",
        "#y_over.shape, X_over.shape\n",
        "\n",
        "np.unique(y_dados, return_counts = True), np.unique(y_over, return_counts = True)\n",
        "\n",
        "import seaborn as sns\n",
        "sns.countplot(x = y_over);\n",
        "\n",
        "from sklearn.preprocessing import OneHotEncoder\n",
        "from sklearn.compose import ColumnTransformer\n",
        "onehotencorder = ColumnTransformer(transformers=[(\"OneHot\", OneHotEncoder(), [0])],remainder='passthrough')\n",
        "X_dados = onehotencorder.fit_transform(X_over).toarray()\n",
        "\n",
        "#X_dados, X_dados.shape\n",
        "\n",
        "#ESCALONAMENTO DE ATRIBUTOS\n",
        "from sklearn.preprocessing import StandardScaler\n",
        "scaler_dados = StandardScaler()\n",
        "X_dados = scaler_dados.fit_transform(X_dados)\n",
        "X_dados\n",
        "\n",
        "#Separação dos dados BALANCEADOS\n",
        "from sklearn.model_selection import train_test_split\n",
        "\n",
        "X_dados_train_over, X_dados_test_over, y_dados_train_over, y_dados_test_over = train_test_split(X_dados, y_over, test_size=0.2, random_state=1)\n",
        "X_dados_train_over.shape, X_dados_test_over.shape\n",
        "np.unique(y_dados, return_counts = True), np.unique(y_over, return_counts = True)\n"
      ]
    },
    {
      "cell_type": "code",
      "execution_count": 185,
      "metadata": {
        "id": "4KssgckW2rDb"
      },
      "outputs": [],
      "source": [
        "from sklearn.svm import SVC"
      ]
    },
    {
      "cell_type": "code",
      "execution_count": 186,
      "metadata": {
        "colab": {
          "base_uri": "https://localhost:8080/",
          "height": 0
        },
        "id": "7BIssZnS2xeH",
        "outputId": "95da7af1-932b-40ca-a542-4d263487bf31"
      },
      "outputs": [
        {
          "output_type": "execute_result",
          "data": {
            "text/plain": [
              "SVC(C=10.0, kernel='linear', random_state=0)"
            ]
          },
          "metadata": {},
          "execution_count": 186
        }
      ],
      "source": [
        "svm_dados = SVC(kernel='linear', random_state=0, C = 10.0) # 2 -> 4\n",
        "svm_dados.fit(X_dados_train_over, y_dados_train_over)"
      ]
    },
    {
      "cell_type": "code",
      "execution_count": 187,
      "metadata": {
        "colab": {
          "base_uri": "https://localhost:8080/",
          "height": 0
        },
        "id": "JZVS5Mb520X0",
        "outputId": "8ba76915-312b-4fb6-977f-61d2d85c3446"
      },
      "outputs": [
        {
          "output_type": "execute_result",
          "data": {
            "text/plain": [
              "array(['IV', 'IV', 'IV', 'III', 'II', 'I', 'I', 'II', 'IV', 'I', 'I',\n",
              "       'IV', 'IV', 'I', 'II', 'II', 'III', 'III', 'II', 'II', 'I', 'I',\n",
              "       'IV', 'IV', 'III', 'I', 'IV', 'II', 'IV', 'II', 'I', 'II', 'I',\n",
              "       'III', 'IV', 'III', 'III', 'IV', 'III', 'II', 'II', 'IV', 'II',\n",
              "       'I', 'III', 'III', 'II', 'IV', 'IV', 'III', 'III', 'III', 'I',\n",
              "       'II', 'III', 'I', 'IV', 'IV', 'II', 'I', 'I', 'II', 'IV', 'IV',\n",
              "       'II', 'I', 'II', 'I', 'II'], dtype=object)"
            ]
          },
          "metadata": {},
          "execution_count": 187
        }
      ],
      "source": [
        "previsoes = svm_dados.predict(X_dados_test_over)\n",
        "previsoes"
      ]
    },
    {
      "cell_type": "markdown",
      "metadata": {
        "id": "-9aW3zZwfysq"
      },
      "source": []
    },
    {
      "cell_type": "code",
      "execution_count": 188,
      "metadata": {
        "colab": {
          "base_uri": "https://localhost:8080/",
          "height": 0
        },
        "id": "BVeDKDbg26hm",
        "outputId": "a4ecfb76-fd33-4088-aa9b-a86d49cc3822"
      },
      "outputs": [
        {
          "output_type": "execute_result",
          "data": {
            "text/plain": [
              "array(['IV', 'IV', 'IV', 'III', 'IV', 'I', 'III', 'I', 'III', 'I', 'III',\n",
              "       'I', 'IV', 'III', 'II', 'II', 'I', 'I', 'II', 'II', 'I', 'I', 'IV',\n",
              "       'IV', 'II', 'I', 'I', 'III', 'IV', 'II', 'III', 'III', 'I', 'III',\n",
              "       'III', 'III', 'III', 'II', 'IV', 'II', 'II', 'III', 'III', 'I',\n",
              "       'IV', 'I', 'III', 'IV', 'IV', 'III', 'III', 'IV', 'III', 'III',\n",
              "       'IV', 'I', 'IV', 'II', 'II', 'I', 'III', 'II', 'IV', 'IV', 'II',\n",
              "       'II', 'II', 'I', 'II'], dtype=object)"
            ]
          },
          "metadata": {},
          "execution_count": 188
        }
      ],
      "source": [
        "y_dados_test_over"
      ]
    },
    {
      "cell_type": "code",
      "execution_count": 189,
      "metadata": {
        "colab": {
          "base_uri": "https://localhost:8080/",
          "height": 0
        },
        "id": "IAJaF1_S28cB",
        "outputId": "1f711e17-7a72-4779-cec1-18ceb0785782"
      },
      "outputs": [
        {
          "output_type": "execute_result",
          "data": {
            "text/plain": [
              "0.5797101449275363"
            ]
          },
          "metadata": {},
          "execution_count": 189
        }
      ],
      "source": [
        "from sklearn.metrics import accuracy_score, classification_report \n",
        "#0.475, liner, 1, 1 | 0.425, poly, 1, 1 | #0.475, sigmoid, 1, 1 | 0.425, rbf, 1, 1\n",
        "#0.434, rbf 1, 2 |0.521 linear, 0, 10\n",
        "\n",
        "accuracy_score(y_dados_test_over, previsoes)"
      ]
    },
    {
      "cell_type": "code",
      "execution_count": 190,
      "metadata": {
        "colab": {
          "base_uri": "https://localhost:8080/",
          "height": 365
        },
        "id": "g8FC5K-02_is",
        "outputId": "82af2f3a-afa7-4308-df5f-d1c8e47541e2"
      },
      "outputs": [
        {
          "output_type": "execute_result",
          "data": {
            "text/plain": [
              "0.5797101449275363"
            ]
          },
          "metadata": {},
          "execution_count": 190
        },
        {
          "output_type": "display_data",
          "data": {
            "text/plain": [
              "<Figure size 576x396 with 1 Axes>"
            ],
            "image/png": "[encoded data removed]"
          },
          "metadata": {}
        }
      ],
      "source": [
        "from yellowbrick.classifier import ConfusionMatrix\n",
        "cm = ConfusionMatrix(svm_dados)\n",
        "cm.fit(X_dados_train_over, y_dados_train_over)\n",
        "cm.score(X_dados_test_over, y_dados_test_over)"
      ]
    },
    {
      "cell_type": "code",
      "execution_count": 191,
      "metadata": {
        "colab": {
          "base_uri": "https://localhost:8080/",
          "height": 0
        },
        "id": "XOQEdZ3h3Bpl",
        "outputId": "d5c8aede-c9d2-43bf-a814-7b0e2402e3ef"
      },
      "outputs": [
        {
          "output_type": "stream",
          "name": "stdout",
          "text": [
            "              precision    recall  f1-score   support\n",
            "\n",
            "           I       0.59      0.62      0.61        16\n",
            "          II       0.63      0.75      0.69        16\n",
            "         III       0.43      0.30      0.35        20\n",
            "          IV       0.63      0.71      0.67        17\n",
            "\n",
            "    accuracy                           0.58        69\n",
            "   macro avg       0.57      0.60      0.58        69\n",
            "weighted avg       0.56      0.58      0.57        69\n",
            "\n"
          ]
        }
      ],
      "source": [
        "print(classification_report(y_dados_test_over, previsoes))"
      ]
    },
    {
      "cell_type": "markdown",
      "metadata": {
        "id": "ZAjK5orIOw9k"
      },
      "source": [
        "# **07. Agrupamento Hierarquico**"
      ]
    },
    {
      "cell_type": "code",
      "execution_count": 192,
      "metadata": {
        "colab": {
          "base_uri": "https://localhost:8080/",
          "height": 347
        },
        "id": "ag2xRPX74Tnl",
        "outputId": "fe8d4993-aa75-4c03-bfad-d0354d19ae20"
      },
      "outputs": [
        {
          "output_type": "display_data",
          "data": {
            "text/plain": [
              "<Figure size 576x396 with 1 Axes>"
            ],
            "image/png": "[encoded data removed]"
          },
          "metadata": {}
        }
      ],
      "source": [
        "#PREPARAR OS DADOS ==> Importar e tratar os dados\n",
        "import pandas as pd\n",
        "\n",
        "# Importando o Arquivo\n",
        "dados = pd.read_csv(\"dataMODIFICADOv10F.csv\", sep=\",\")\n",
        "\n",
        "#Transformando os nulos para 0\n",
        "dados = dados.fillna(1, inplace= False) \n",
        "\n",
        "#Separando as variaveis de interesse | sex\tage\tLYVE1\tREG1B\tTFF1\tcreatinine\tplasma_CA19_9\tREG1A\t\n",
        "X_dados = dados.iloc[:,5:13].values\n",
        "X_dados \n",
        "\n",
        "#Separando a classe alvo | stage2\n",
        "y_dados = dados.iloc[:,13].values\n",
        "y_dados\n",
        "\n",
        "# Tratando as colunas que São rotulos | sex\n",
        "from sklearn.preprocessing import LabelEncoder\n",
        "\n",
        "label_encoder_sex = LabelEncoder()\n",
        "X_dados[:,0] = label_encoder_sex.fit_transform(X_dados[:,0])\n",
        "\n",
        "# Sobreamostragem com SMOTE\n",
        "\n",
        "from imblearn.over_sampling import SMOTE\n",
        "\n",
        "smote = SMOTE(sampling_strategy='not majority')\n",
        "X_over, y_over = smote.fit_resample(X_dados, y_dados)\n",
        "\n",
        "#y_over.shape, X_over.shape\n",
        "np.unique(y_dados, return_counts = True), np.unique(y_over, return_counts = True)\n",
        "\n",
        "import seaborn as sns\n",
        "sns.countplot(x = y_over);\n",
        "\n",
        "from sklearn.preprocessing import OneHotEncoder\n",
        "from sklearn.compose import ColumnTransformer\n",
        "onehotencorder = ColumnTransformer(transformers=[(\"OneHot\", OneHotEncoder(), [0])],remainder='passthrough')\n",
        "X_dados = onehotencorder.fit_transform(X_over).toarray()\n",
        "\n",
        "#X_dados, X_dados.shape\n",
        "\n",
        "#ESCALONAMENTO DE ATRIBUTOS\n",
        "from sklearn.preprocessing import StandardScaler\n",
        "scaler_dados = StandardScaler()\n",
        "X_dados = scaler_dados.fit_transform(X_over)\n",
        "X_dados\n",
        "\n",
        "#Separação dos dados BALANCEADOS\n",
        "from sklearn.model_selection import train_test_split\n",
        "X_dados_train_over, X_dados_test_over, y_dados_train_over, y_dados_test_over = train_test_split(X_dados, y_over, test_size=0.2, random_state=0)\n"
      ]
    },
    {
      "cell_type": "code",
      "execution_count": 193,
      "metadata": {
        "id": "7uP7tvywO1WB"
      },
      "outputs": [],
      "source": [
        "#Reduzir as dimensões de dimensões.\n",
        "from sklearn.decomposition import PCA\n",
        "import plotly.express as px\n"
      ]
    },
    {
      "cell_type": "code",
      "execution_count": 194,
      "metadata": {
        "id": "O81dL1nGO4oM"
      },
      "outputs": [],
      "source": [
        "pca = PCA(n_components=2)"
      ]
    },
    {
      "cell_type": "code",
      "execution_count": 195,
      "metadata": {
        "id": "2A-49BgrO7oJ"
      },
      "outputs": [],
      "source": [
        "X_dados_train_pca = pca.fit_transform(X_dados_train_over)\n",
        "X_dados_test_pca = pca.transform(X_dados_test_over)"
      ]
    },
    {
      "cell_type": "code",
      "execution_count": 196,
      "metadata": {
        "colab": {
          "base_uri": "https://localhost:8080/",
          "height": 0
        },
        "id": "EbCcXVbIP6Hi",
        "outputId": "66d0a82f-3206-4c26-9a62-05b3c90cb0f9"
      },
      "outputs": [
        {
          "output_type": "execute_result",
          "data": {
            "text/plain": [
              "((275, 2), (69, 2))"
            ]
          },
          "metadata": {},
          "execution_count": 196
        }
      ],
      "source": [
        "X_dados_train_pca.shape, X_dados_test_pca.shape,"
      ]
    },
    {
      "cell_type": "code",
      "execution_count": 197,
      "metadata": {
        "id": "ezM8GuI_QOuw"
      },
      "outputs": [],
      "source": [
        "#X_dados_train_pca"
      ]
    },
    {
      "cell_type": "code",
      "execution_count": 198,
      "metadata": {
        "colab": {
          "base_uri": "https://localhost:8080/",
          "height": 0
        },
        "id": "n9bCRWdgQlQ_",
        "outputId": "a0359f70-438d-4037-cffc-1907b4a80ae8"
      },
      "outputs": [
        {
          "output_type": "execute_result",
          "data": {
            "text/plain": [
              "array([0.31860026, 0.15550037])"
            ]
          },
          "metadata": {},
          "execution_count": 198
        }
      ],
      "source": [
        "pca.explained_variance_ratio_"
      ]
    },
    {
      "cell_type": "code",
      "execution_count": 199,
      "metadata": {
        "colab": {
          "base_uri": "https://localhost:8080/",
          "height": 0
        },
        "id": "w4wrfjYZQqE1",
        "outputId": "38031f10-e1c2-4169-9b88-36fa223c06af"
      },
      "outputs": [
        {
          "output_type": "execute_result",
          "data": {
            "text/plain": [
              "0.47410062534549513"
            ]
          },
          "metadata": {},
          "execution_count": 199
        }
      ],
      "source": [
        "pca.explained_variance_ratio_.sum()"
      ]
    },
    {
      "cell_type": "code",
      "execution_count": 200,
      "metadata": {
        "colab": {
          "base_uri": "https://localhost:8080/",
          "height": 542
        },
        "id": "aBV2Nqt7cPFJ",
        "outputId": "159da19e-2329-49c6-c257-fbfc3e1fe39c"
      },
      "outputs": [
        {
          "output_type": "display_data",
          "data": {
            "text/html": [
              "<html>\n",
              "<head><meta charset=\"utf-8\" /></head>\n",
              "<body>\n",
              "    <div>            <script src=\"https://cdnjs.cloudflare.com/ajax/libs/mathjax/2.7.5/MathJax.js?config=TeX-AMS-MML_SVG\"></script><script type=\"text/javascript\">if (window.MathJax) {MathJax.Hub.Config({SVG: {font: \"STIX-Web\"}});}</script>                <script type=\"text/javascript\">window.PlotlyConfig = {MathJaxConfig: 'local'};</script>\n",
              "        <script src=\"https://cdn.plot.ly/plotly-2.8.3.min.js\"></script>                <div id=\"34064bf1-4b15-43ac-bfd7-22a3558e165e\" class=\"plotly-graph-div\" style=\"height:525px; width:100%;\"></div>            <script type=\"text/javascript\">                                    window.PLOTLYENV=window.PLOTLYENV || {};                                    if (document.getElementById(\"34064bf1-4b15-43ac-bfd7-22a3558e165e\")) {                    Plotly.newPlot(                        \"34064bf1-4b15-43ac-bfd7-22a3558e165e\",                        [{\"hovertemplate\":\"x=%{x}<br>y=%{y}<extra></extra>\",\"legendgroup\":\"\",\"marker\":{\"color\":\"#636efa\",\"symbol\":\"circle\"},\"mode\":\"markers\",\"name\":\"\",\"orientation\":\"v\",\"showlegend\":false,\"x\":[0.27286180176576225,-0.1588301972325267,-0.6296931689070412,-1.6261092433555588,2.8200285005871844,1.5300632684946762,-1.3037911781901135,2.92836384183822,-1.0548439947138275,-1.86284156432318,-0.4457555522330143,-1.722779132532011,0.9443807878256355,-0.9288701072975363,-0.3579813744059269,-0.9363284990731577,-0.2477577834939855,1.7958883155627647,1.5983791474945037,-0.17208991963222212,0.9784043284810816,-1.9329627535560294,-0.16122650338285496,0.9867121252799419,-1.8284876076636933,2.1791967203042897,1.114846954784285,-0.9092071297946416,-1.1363034423869354,-0.9298787174615916,-0.5290585980930306,-0.6565582183297317,1.2451710369528957,1.5141520376555573,-1.6467724432932103,-1.2976247495260294,0.9566215621913973,-0.4693523161287068,-1.5493587210926016,0.9969507114094912,0.48017303112093307,-1.2696154325127367,0.8004981596545652,-1.185700114542536,-0.9320611128011521,0.09946813217302707,-0.07188956851598466,-1.3703586946463873,-0.39786518362623613,-1.117949101192916,-1.182570879957112,-0.7072451159747489,-0.1523045545889063,-0.6017562747329529,1.1289315931915784,0.5062279009263791,-2.128695240250065,-0.684465965738346,-1.9090938464615161,-1.3484463842194572,-1.162776289974983,-0.9767307619704202,-2.0831032104067666,-0.6232201946542261,1.920749007397941,-0.5678235669470136,-0.725312238428778,-1.483569390866358,-1.3829439518393152,-0.2773881292376772,-1.5955988396229832,-0.21557466534779735,-1.6524850954698005,-0.9883124250069676,0.29780315458433,-0.47883946242891406,-1.3636416673929692,-1.4645486267337287,-0.1463683881506647,0.6314027389002614,1.9621354716438124,-0.7358031015988533,-1.5497740546281202,-1.8557110472505889,-0.6529464224245716,-1.4859668752553703,-0.017304296059108187,1.4969321210865212,2.220757564028413,-1.4715986525495721,2.6548869462176388,0.718306731608859,-1.5755337643722391,-1.3325544342647742,2.2022698627807293,0.7152866564117144,-1.4887504608234288,2.1026429241627413,-1.4851680662440343,0.7877527355187461,-0.45918493303574043,-1.4663758009802057,-2.315692031771681,2.825267765098529,-0.6745159998387358,-1.119009456680171,-1.535355713855218,-0.5670972259154252,-0.5222860474927526,0.2540674546088114,-1.3739480340438344,1.1386796694005585,-0.010466592854911484,1.0102881714257492,1.087846662684271,-1.527120854946142,-1.2324714317306347,3.3570536880509394,0.8617684300696172,9.417410784441536,-1.8169054413909516,-0.7920312101419423,0.4223477361550506,3.5548059417375613,0.25871179298681185,2.802156063250538,-1.2415841076005991,-1.301203023303957,2.049383730130855,0.8369128428948529,-0.10259826013722846,-1.5517946932159998,4.472520969190603,0.673401644946611,-1.540112171876011,1.1458168552002328,-1.1270110980226058,-1.1662871974486606,0.39476816650271906,-2.0906943794580535,-1.7720571985347913,-0.25239597182219276,1.7263579814203092,1.7890097765373905,-1.1720470502297133,3.567714039495552,-0.5508008616828549,1.548040319593145,2.1314948509880383,2.066523282746329,-1.7354879693794258,-0.42061941065373676,-1.484761992390691,-1.4913644835330142,-1.5563028158253582,-0.679194255982809,-0.6037994946038819,-1.3208492196196842,0.35424327745621675,-0.8840189983133546,-0.7817519027789076,-0.4597481129188572,-2.1632640944296884,-0.9595340814821225,0.3094804781610281,-1.0827636987238314,4.373259629318302,4.314707605184188,-1.431676671268816,-0.5354299387475545,-0.21232296001270556,-1.8199861946076108,-1.5087307978751332,-0.6839234497103677,-0.7252485858212141,-1.2032283265095889,-0.45852441957495693,-0.20551672397021745,1.5888412470050015,0.6045947464020608,-1.3961927723249528,-0.5699284393887719,-1.366892702640456,-1.0848102525488506,0.10676126641546237,0.7184635098102419,-0.20584602740182018,-1.4482508070040812,2.050142628774026,-0.7219941535119481,1.4990102564278718,-0.7159813071256236,0.11700265100461239,2.0500649530483126,-1.1487391475867366,2.043959731569031,-1.334450494899157,-0.5440883866648168,1.25791396483191,-0.9365807059332328,0.7448671937927815,-1.7855914134774051,-1.1527157868411877,1.7360208006953262,2.8289798240765887,0.06974353798156774,-0.6810053754759066,-1.5406578042708985,-1.5375804706089646,-1.7266192563790008,4.827560562140806,2.1643461003959175,-0.22128312506236944,-1.782148194149272,-0.029753947965180005,-2.102641794973483,3.660895969179841,-2.074948173401614,-1.5566370358274257,1.706819203616142,-1.3012782779472754,-0.8899284456259993,0.47039066049820716,2.1818586741375667,-1.4795446686953428,0.5706244008001499,0.16153713051800941,-0.6899622517187834,1.1097748973921668,0.17369653235167057,2.19345568072094,1.573252665947524,2.9269706158747826,-1.2125389732339198,-1.1796627929687276,3.481994622007156,-2.0091813123826694,0.7777023437801666,4.688932855310289,-1.3528339224455375,1.5216946158726823,1.6362324640314148,1.6178029120735804,2.5490811614280866,2.653573993131968,-0.6697412654541534,0.3580809162295416,0.12310586066691624,-0.11986231402538865,-0.35166091158070184,-1.2449950529026497,-0.23151952024392336,-1.7047826906058623,-1.3904365899165005,-1.1417874000458235,-0.31134228942958236,-0.6743347213248394,-1.207325432663296,1.8605187453524727,1.9478291440039512,4.770944294542541,-0.7346301195445509,-1.4709289201190696,1.7697964838698126,-1.7074406001404219,1.3321637615142061,-1.5873561474208322,-1.4336669372904467,-0.7594640443466946,-1.4105358036248774,3.4353538623484643,1.7478253524067937,0.7378492077042174,-1.3006620721656794,1.8353474224864734],\"xaxis\":\"x\",\"y\":[0.9228199032133383,0.08165997702894343,1.2739284924682535,1.5015163978886477,4.431001011487016,0.9881693192524637,-0.6803041257301554,1.3349024517823573,-0.6759466204308989,-0.0641894552793537,-0.20290717670369324,-1.5634038510805732,-0.27490366324863574,-0.8412362900818194,-1.2974078109815677,-0.051250994319134664,-0.6218519232740551,1.1052838787872072,1.615096458272152,-0.3272774752129312,-1.5028243753664017,-0.2663473399521159,0.011534032795321777,-1.7433844034040384,1.7564170688453697,-0.010778681494553185,1.0982940413390163,-0.00683219051364924,-1.0172801720339593,-0.819098308475262,-0.1863645540402124,1.6979971964813292,-0.4279021218547782,1.7728845947480534,0.5649324551397223,-0.14147734234174664,-0.6995380471754837,-0.5681421174308005,-1.018568802177073,1.649028842563222,-1.945546692593092,-0.3709221720320083,0.13813142372485576,-0.26018128884264513,-0.3404679550813902,0.8123831100105735,0.43396546567029615,-0.2136727023997875,0.17451710961107073,0.8427310743077906,-1.9883052104949825,-0.7879642701476255,-0.5794897833542694,1.4421548877448085,-0.40828871413667633,1.0138888942007638,0.16450661258191188,1.7012635825721556,1.6750532548523929,-0.09609120416302565,0.9187701134999939,0.44275439568599667,-0.8662375325541426,-0.10120347530496583,-1.5726358277419008,-0.9377199612216703,0.042751787237577964,1.0521929292794818,-0.6090755027361686,-0.04268844476902314,0.0859090352990693,-0.7038303105611929,0.5735229244909545,-0.3831257631228665,-0.9118636790985708,-0.4476045653918508,1.8789008188458933,1.070425520461922,0.5224652249453065,0.0004042699119675111,-0.41971979271522597,1.7594732939563462,-0.02001374884213345,0.5037014787817943,0.28486007564131977,0.6618819070194425,0.28021352143342526,0.6806190803115896,-2.2300330744906995,1.0778998327503981,1.390332904626476,-1.4250571593331764,-0.6929167233679364,-0.7510277283661675,-1.6542180136509954,-0.6272046520289911,-0.24568698325690025,-1.570140731306994,0.33252593147597376,-1.284760878900321,-1.1167381858693861,1.0870947073142183,1.10145900010388,-1.4589486282237187,-0.3942018793666837,1.037642023926614,0.909500031881392,-0.39504096165828134,-0.6742954224690092,0.14137364232876037,0.28249645117852507,-2.265836232055133,-0.670805652304882,0.22747711872259085,1.9106993155791312,-0.056274656561043135,-0.3204576173439445,0.48577365679786655,-1.140396333689736,0.8262843662438398,0.04741698040632247,-0.5139316375650183,-0.4556368793314174,0.7283512907771581,0.905577696306298,3.783071764027375,1.2436035873174827,-0.5766200389434076,-0.9127442020653485,-1.020018184882828,-0.46272651034950474,-0.023900244210269338,-0.34202126003114386,-2.09698589448299,0.895846962112833,1.4654970009305148,0.690161929836453,-0.38265001550603134,-0.028297223788039,0.48188620314274405,-1.0803279930108427,-0.45253281057148875,-1.849963237618937,0.6536411707661004,0.6328694243451227,0.5981512659690392,-0.48394019221355056,0.25926036756180626,-1.4886745208600016,-1.6952100852151222,-0.9384800290217179,-1.296678229161861,1.054725661117812,-1.097971072138481,1.0899140436823658,-0.5959794985065879,0.3406048433181548,-0.3290746671825746,-2.764556580508464,-0.05999025371986819,-1.2848578583422332,0.6639662710542364,0.12155329085546698,-0.24887076217347254,0.6952992876622053,0.5891313292897331,-0.3169115522538717,0.12042857936429259,-0.8647373874247034,-0.30434482541784696,-0.10708118313697713,-1.8551375646546826,-0.134039179815881,1.6767424341183363,-1.73280584000552,0.02984334094866094,-0.23267161546737983,3.2680836393094364,-1.3950799947634875,-0.17675890408546235,-0.22806469946866645,-0.3189223119676083,-0.6630876662113939,0.7789606092637441,1.0881916022748837,-2.1323022625690085,3.2671623982370686,-0.903560612178849,-1.4746432445004019,-1.3637238837732846,2.2472645039114036,-0.8001250048366851,1.3879972409323378,-1.5989221154569249,-0.4965092637782544,-0.8880415371828375,-0.14880283085990464,0.5828256885090902,-0.605940913314036,1.6611402769570127,-1.949545308801244,-1.089204047902381,0.3037531330574901,-2.024105165787825,0.4138514481233702,-0.7964701231111759,-0.8994897939349036,0.8942866812593181,0.792298428527887,-0.3761930232129468,-0.28985471799694573,-1.5312069363704122,-0.5566459907080941,0.680423412731798,-1.4993533787388025,0.09788054055024524,-1.338811985909276,-0.042391890629553106,0.8485927501710376,-0.8120943556265691,0.4129073757032319,0.08769977355846047,1.6626533422318392,-1.5538804138320585,-0.8498215012725862,-0.21726631898654014,-0.5602149396340971,3.5560593609687405,1.6110445361722605,0.9120757870772294,-1.568895023978446,2.313597511667862,2.083384512578219,-0.2738626198805526,0.13472158524476885,1.010532840680825,-0.5245421023720039,2.6036467148985634,0.31851451800678143,-0.965222539461055,2.1029504532777095,-1.160897273336264,-0.4266166427857358,1.5228674104303257,1.5491708286372172,2.4731536099981377,-2.179994042584573,-0.8534432459251236,0.02443092163453325,-0.6679641281790348,-0.30882685740613625,-0.553773147661014,-0.9570177735641306,1.9621283968683405,-0.21168431883225702,1.4667027467531353,-0.5836575387007327,-0.7626921682509976,-0.05259124040016894,2.2760080742548188,-0.5072980237733994,-0.5108455195417289,1.2413785183782713,-0.5008934242457661,-0.7312225710788787,1.9396789171916775,-0.1033363149600077,-0.21022924584227126,-0.7995136176062941,-0.8272562564530147,-0.5673150550290037,-1.5750078762565152,1.1223659602102976,1.5367532694304689,-0.7922402524436429],\"yaxis\":\"y\",\"type\":\"scatter\"}],                        {\"template\":{\"data\":{\"bar\":[{\"error_x\":{\"color\":\"#2a3f5f\"},\"error_y\":{\"color\":\"#2a3f5f\"},\"marker\":{\"line\":{\"color\":\"#E5ECF6\",\"width\":0.5},\"pattern\":{\"fillmode\":\"overlay\",\"size\":10,\"solidity\":0.2}},\"type\":\"bar\"}],\"barpolar\":[{\"marker\":{\"line\":{\"color\":\"#E5ECF6\",\"width\":0.5},\"pattern\":{\"fillmode\":\"overlay\",\"size\":10,\"solidity\":0.2}},\"type\":\"barpolar\"}],\"carpet\":[{\"aaxis\":{\"endlinecolor\":\"#2a3f5f\",\"gridcolor\":\"white\",\"linecolor\":\"white\",\"minorgridcolor\":\"white\",\"startlinecolor\":\"#2a3f5f\"},\"baxis\":{\"endlinecolor\":\"#2a3f5f\",\"gridcolor\":\"white\",\"linecolor\":\"white\",\"minorgridcolor\":\"white\",\"startlinecolor\":\"#2a3f5f\"},\"type\":\"carpet\"}],\"choropleth\":[{\"colorbar\":{\"outlinewidth\":0,\"ticks\":\"\"},\"type\":\"choropleth\"}],\"contour\":[{\"colorbar\":{\"outlinewidth\":0,\"ticks\":\"\"},\"colorscale\":[[0.0,\"#0d0887\"],[0.1111111111111111,\"#46039f\"],[0.2222222222222222,\"#7201a8\"],[0.3333333333333333,\"#9c179e\"],[0.4444444444444444,\"#bd3786\"],[0.5555555555555556,\"#d8576b\"],[0.6666666666666666,\"#ed7953\"],[0.7777777777777778,\"#fb9f3a\"],[0.8888888888888888,\"#fdca26\"],[1.0,\"#f0f921\"]],\"type\":\"contour\"}],\"contourcarpet\":[{\"colorbar\":{\"outlinewidth\":0,\"ticks\":\"\"},\"type\":\"contourcarpet\"}],\"heatmap\":[{\"colorbar\":{\"outlinewidth\":0,\"ticks\":\"\"},\"colorscale\":[[0.0,\"#0d0887\"],[0.1111111111111111,\"#46039f\"],[0.2222222222222222,\"#7201a8\"],[0.3333333333333333,\"#9c179e\"],[0.4444444444444444,\"#bd3786\"],[0.5555555555555556,\"#d8576b\"],[0.6666666666666666,\"#ed7953\"],[0.7777777777777778,\"#fb9f3a\"],[0.8888888888888888,\"#fdca26\"],[1.0,\"#f0f921\"]],\"type\":\"heatmap\"}],\"heatmapgl\":[{\"colorbar\":{\"outlinewidth\":0,\"ticks\":\"\"},\"colorscale\":[[0.0,\"#0d0887\"],[0.1111111111111111,\"#46039f\"],[0.2222222222222222,\"#7201a8\"],[0.3333333333333333,\"#9c179e\"],[0.4444444444444444,\"#bd3786\"],[0.5555555555555556,\"#d8576b\"],[0.6666666666666666,\"#ed7953\"],[0.7777777777777778,\"#fb9f3a\"],[0.8888888888888888,\"#fdca26\"],[1.0,\"#f0f921\"]],\"type\":\"heatmapgl\"}],\"histogram\":[{\"marker\":{\"pattern\":{\"fillmode\":\"overlay\",\"size\":10,\"solidity\":0.2}},\"type\":\"histogram\"}],\"histogram2d\":[{\"colorbar\":{\"outlinewidth\":0,\"ticks\":\"\"},\"colorscale\":[[0.0,\"#0d0887\"],[0.1111111111111111,\"#46039f\"],[0.2222222222222222,\"#7201a8\"],[0.3333333333333333,\"#9c179e\"],[0.4444444444444444,\"#bd3786\"],[0.5555555555555556,\"#d8576b\"],[0.6666666666666666,\"#ed7953\"],[0.7777777777777778,\"#fb9f3a\"],[0.8888888888888888,\"#fdca26\"],[1.0,\"#f0f921\"]],\"type\":\"histogram2d\"}],\"histogram2dcontour\":[{\"colorbar\":{\"outlinewidth\":0,\"ticks\":\"\"},\"colorscale\":[[0.0,\"#0d0887\"],[0.1111111111111111,\"#46039f\"],[0.2222222222222222,\"#7201a8\"],[0.3333333333333333,\"#9c179e\"],[0.4444444444444444,\"#bd3786\"],[0.5555555555555556,\"#d8576b\"],[0.6666666666666666,\"#ed7953\"],[0.7777777777777778,\"#fb9f3a\"],[0.8888888888888888,\"#fdca26\"],[1.0,\"#f0f921\"]],\"type\":\"histogram2dcontour\"}],\"mesh3d\":[{\"colorbar\":{\"outlinewidth\":0,\"ticks\":\"\"},\"type\":\"mesh3d\"}],\"parcoords\":[{\"line\":{\"colorbar\":{\"outlinewidth\":0,\"ticks\":\"\"}},\"type\":\"parcoords\"}],\"pie\":[{\"automargin\":true,\"type\":\"pie\"}],\"scatter\":[{\"marker\":{\"colorbar\":{\"outlinewidth\":0,\"ticks\":\"\"}},\"type\":\"scatter\"}],\"scatter3d\":[{\"line\":{\"colorbar\":{\"outlinewidth\":0,\"ticks\":\"\"}},\"marker\":{\"colorbar\":{\"outlinewidth\":0,\"ticks\":\"\"}},\"type\":\"scatter3d\"}],\"scattercarpet\":[{\"marker\":{\"colorbar\":{\"outlinewidth\":0,\"ticks\":\"\"}},\"type\":\"scattercarpet\"}],\"scattergeo\":[{\"marker\":{\"colorbar\":{\"outlinewidth\":0,\"ticks\":\"\"}},\"type\":\"scattergeo\"}],\"scattergl\":[{\"marker\":{\"colorbar\":{\"outlinewidth\":0,\"ticks\":\"\"}},\"type\":\"scattergl\"}],\"scattermapbox\":[{\"marker\":{\"colorbar\":{\"outlinewidth\":0,\"ticks\":\"\"}},\"type\":\"scattermapbox\"}],\"scatterpolar\":[{\"marker\":{\"colorbar\":{\"outlinewidth\":0,\"ticks\":\"\"}},\"type\":\"scatterpolar\"}],\"scatterpolargl\":[{\"marker\":{\"colorbar\":{\"outlinewidth\":0,\"ticks\":\"\"}},\"type\":\"scatterpolargl\"}],\"scatterternary\":[{\"marker\":{\"colorbar\":{\"outlinewidth\":0,\"ticks\":\"\"}},\"type\":\"scatterternary\"}],\"surface\":[{\"colorbar\":{\"outlinewidth\":0,\"ticks\":\"\"},\"colorscale\":[[0.0,\"#0d0887\"],[0.1111111111111111,\"#46039f\"],[0.2222222222222222,\"#7201a8\"],[0.3333333333333333,\"#9c179e\"],[0.4444444444444444,\"#bd3786\"],[0.5555555555555556,\"#d8576b\"],[0.6666666666666666,\"#ed7953\"],[0.7777777777777778,\"#fb9f3a\"],[0.8888888888888888,\"#fdca26\"],[1.0,\"#f0f921\"]],\"type\":\"surface\"}],\"table\":[{\"cells\":{\"fill\":{\"color\":\"#EBF0F8\"},\"line\":{\"color\":\"white\"}},\"header\":{\"fill\":{\"color\":\"#C8D4E3\"},\"line\":{\"color\":\"white\"}},\"type\":\"table\"}]},\"layout\":{\"annotationdefaults\":{\"arrowcolor\":\"#2a3f5f\",\"arrowhead\":0,\"arrowwidth\":1},\"autotypenumbers\":\"strict\",\"coloraxis\":{\"colorbar\":{\"outlinewidth\":0,\"ticks\":\"\"}},\"colorscale\":{\"diverging\":[[0,\"#8e0152\"],[0.1,\"#c51b7d\"],[0.2,\"#de77ae\"],[0.3,\"#f1b6da\"],[0.4,\"#fde0ef\"],[0.5,\"#f7f7f7\"],[0.6,\"#e6f5d0\"],[0.7,\"#b8e186\"],[0.8,\"#7fbc41\"],[0.9,\"#4d9221\"],[1,\"#276419\"]],\"sequential\":[[0.0,\"#0d0887\"],[0.1111111111111111,\"#46039f\"],[0.2222222222222222,\"#7201a8\"],[0.3333333333333333,\"#9c179e\"],[0.4444444444444444,\"#bd3786\"],[0.5555555555555556,\"#d8576b\"],[0.6666666666666666,\"#ed7953\"],[0.7777777777777778,\"#fb9f3a\"],[0.8888888888888888,\"#fdca26\"],[1.0,\"#f0f921\"]],\"sequentialminus\":[[0.0,\"#0d0887\"],[0.1111111111111111,\"#46039f\"],[0.2222222222222222,\"#7201a8\"],[0.3333333333333333,\"#9c179e\"],[0.4444444444444444,\"#bd3786\"],[0.5555555555555556,\"#d8576b\"],[0.6666666666666666,\"#ed7953\"],[0.7777777777777778,\"#fb9f3a\"],[0.8888888888888888,\"#fdca26\"],[1.0,\"#f0f921\"]]},\"colorway\":[\"#636efa\",\"#EF553B\",\"#00cc96\",\"#ab63fa\",\"#FFA15A\",\"#19d3f3\",\"#FF6692\",\"#B6E880\",\"#FF97FF\",\"#FECB52\"],\"font\":{\"color\":\"#2a3f5f\"},\"geo\":{\"bgcolor\":\"white\",\"lakecolor\":\"white\",\"landcolor\":\"#E5ECF6\",\"showlakes\":true,\"showland\":true,\"subunitcolor\":\"white\"},\"hoverlabel\":{\"align\":\"left\"},\"hovermode\":\"closest\",\"mapbox\":{\"style\":\"light\"},\"paper_bgcolor\":\"white\",\"plot_bgcolor\":\"#E5ECF6\",\"polar\":{\"angularaxis\":{\"gridcolor\":\"white\",\"linecolor\":\"white\",\"ticks\":\"\"},\"bgcolor\":\"#E5ECF6\",\"radialaxis\":{\"gridcolor\":\"white\",\"linecolor\":\"white\",\"ticks\":\"\"}},\"scene\":{\"xaxis\":{\"backgroundcolor\":\"#E5ECF6\",\"gridcolor\":\"white\",\"gridwidth\":2,\"linecolor\":\"white\",\"showbackground\":true,\"ticks\":\"\",\"zerolinecolor\":\"white\"},\"yaxis\":{\"backgroundcolor\":\"#E5ECF6\",\"gridcolor\":\"white\",\"gridwidth\":2,\"linecolor\":\"white\",\"showbackground\":true,\"ticks\":\"\",\"zerolinecolor\":\"white\"},\"zaxis\":{\"backgroundcolor\":\"#E5ECF6\",\"gridcolor\":\"white\",\"gridwidth\":2,\"linecolor\":\"white\",\"showbackground\":true,\"ticks\":\"\",\"zerolinecolor\":\"white\"}},\"shapedefaults\":{\"line\":{\"color\":\"#2a3f5f\"}},\"ternary\":{\"aaxis\":{\"gridcolor\":\"white\",\"linecolor\":\"white\",\"ticks\":\"\"},\"baxis\":{\"gridcolor\":\"white\",\"linecolor\":\"white\",\"ticks\":\"\"},\"bgcolor\":\"#E5ECF6\",\"caxis\":{\"gridcolor\":\"white\",\"linecolor\":\"white\",\"ticks\":\"\"}},\"title\":{\"x\":0.05},\"xaxis\":{\"automargin\":true,\"gridcolor\":\"white\",\"linecolor\":\"white\",\"ticks\":\"\",\"title\":{\"standoff\":15},\"zerolinecolor\":\"white\",\"zerolinewidth\":2},\"yaxis\":{\"automargin\":true,\"gridcolor\":\"white\",\"linecolor\":\"white\",\"ticks\":\"\",\"title\":{\"standoff\":15},\"zerolinecolor\":\"white\",\"zerolinewidth\":2}}},\"xaxis\":{\"anchor\":\"y\",\"domain\":[0.0,1.0],\"title\":{\"text\":\"x\"}},\"yaxis\":{\"anchor\":\"x\",\"domain\":[0.0,1.0],\"title\":{\"text\":\"y\"}},\"legend\":{\"tracegroupgap\":0},\"margin\":{\"t\":60}},                        {\"responsive\": true}                    ).then(function(){\n",
              "                            \n",
              "var gd = document.getElementById('34064bf1-4b15-43ac-bfd7-22a3558e165e');\n",
              "var x = new MutationObserver(function (mutations, observer) {{\n",
              "        var display = window.getComputedStyle(gd).display;\n",
              "        if (!display || display === 'none') {{\n",
              "            console.log([gd, 'removed!']);\n",
              "            Plotly.purge(gd);\n",
              "            observer.disconnect();\n",
              "        }}\n",
              "}});\n",
              "\n",
              "// Listen for the removal of the full notebook cells\n",
              "var notebookContainer = gd.closest('#notebook-container');\n",
              "if (notebookContainer) {{\n",
              "    x.observe(notebookContainer, {childList: true});\n",
              "}}\n",
              "\n",
              "// Listen for the clearing of the current output cell\n",
              "var outputEl = gd.closest('.output');\n",
              "if (outputEl) {{\n",
              "    x.observe(outputEl, {childList: true});\n",
              "}}\n",
              "\n",
              "                        })                };                            </script>        </div>\n",
              "</body>\n",
              "</html>"
            ]
          },
          "metadata": {}
        }
      ],
      "source": [
        "grafico = px.scatter(x = X_dados_train_pca[:,0], y= X_dados_train_pca[:,1]) \n",
        "grafico.show()"
      ]
    },
    {
      "cell_type": "code",
      "execution_count": 201,
      "metadata": {
        "id": "nLLYaRYSsQnf"
      },
      "outputs": [],
      "source": [
        "import matplotlib.pyplot as plt\n",
        "from scipy.cluster.hierarchy import dendrogram, linkage"
      ]
    },
    {
      "cell_type": "code",
      "execution_count": 202,
      "metadata": {
        "colab": {
          "base_uri": "https://localhost:8080/",
          "height": 374
        },
        "id": "fe1WkmfosS-Y",
        "outputId": "76fcb2c0-ca07-4e42-ff2d-0c0559705406"
      },
      "outputs": [
        {
          "output_type": "display_data",
          "data": {
            "text/plain": [
              "<Figure size 576x396 with 1 Axes>"
            ],
            "image/png": "[encoded data removed]"
          },
          "metadata": {}
        }
      ],
      "source": [
        "dendrograma = dendrogram(linkage(X_dados_train_pca, method='ward'))\n",
        "plt.title('Dendrograma')\n",
        "plt.xlabel('Biomarcadores')\n",
        "plt.ylabel('Distância');"
      ]
    },
    {
      "cell_type": "code",
      "execution_count": 203,
      "metadata": {
        "id": "AnDNJbZisdha"
      },
      "outputs": [],
      "source": [
        "from sklearn.cluster import AgglomerativeClustering"
      ]
    },
    {
      "cell_type": "code",
      "execution_count": 204,
      "metadata": {
        "id": "BCu8KDb1sg1-"
      },
      "outputs": [],
      "source": [
        "hc_dados_agrup = AgglomerativeClustering(n_clusters=2, linkage='ward', affinity='euclidean')\n",
        "rotulos = hc_dados_agrup.fit_predict(X_dados_train_pca)"
      ]
    },
    {
      "cell_type": "code",
      "execution_count": 205,
      "metadata": {
        "colab": {
          "base_uri": "https://localhost:8080/",
          "height": 542
        },
        "id": "PE-eUklJs9OC",
        "outputId": "be500609-8291-4e61-f19e-02bafa7d8742"
      },
      "outputs": [
        {
          "output_type": "display_data",
          "data": {
            "text/html": [
              "<html>\n",
              "<head><meta charset=\"utf-8\" /></head>\n",
              "<body>\n",
              "    <div>            <script src=\"https://cdnjs.cloudflare.com/ajax/libs/mathjax/2.7.5/MathJax.js?config=TeX-AMS-MML_SVG\"></script><script type=\"text/javascript\">if (window.MathJax) {MathJax.Hub.Config({SVG: {font: \"STIX-Web\"}});}</script>                <script type=\"text/javascript\">window.PlotlyConfig = {MathJaxConfig: 'local'};</script>\n",
              "        <script src=\"https://cdn.plot.ly/plotly-2.8.3.min.js\"></script>                <div id=\"4421540d-9695-4a42-a24b-37251f55e97d\" class=\"plotly-graph-div\" style=\"height:525px; width:100%;\"></div>            <script type=\"text/javascript\">                                    window.PLOTLYENV=window.PLOTLYENV || {};                                    if (document.getElementById(\"4421540d-9695-4a42-a24b-37251f55e97d\")) {                    Plotly.newPlot(                        \"4421540d-9695-4a42-a24b-37251f55e97d\",                        [{\"hovertemplate\":\"x=%{x}<br>y=%{y}<br>color=%{marker.color}<extra></extra>\",\"legendgroup\":\"\",\"marker\":{\"color\":[0,0,1,1,0,0,1,0,1,1,1,1,0,1,1,1,1,0,0,1,0,1,0,0,1,0,0,1,1,1,1,1,0,0,1,1,0,1,1,0,0,1,0,1,1,0,0,1,0,1,1,1,1,1,0,0,1,1,1,1,1,1,1,1,0,1,1,1,1,0,1,1,1,1,1,1,1,1,0,0,0,1,1,1,0,1,0,0,0,1,0,0,1,1,0,0,1,0,1,0,1,1,1,0,1,1,1,1,1,0,1,0,1,0,0,1,1,0,0,0,1,1,0,0,0,0,1,1,0,0,1,1,0,0,1,0,1,1,0,1,1,1,0,0,1,0,1,0,0,0,1,1,1,1,1,1,0,1,0,1,1,0,1,1,0,1,0,0,1,1,0,1,1,1,1,1,1,0,0,0,1,1,1,1,0,0,0,1,0,1,0,1,0,0,1,0,1,0,0,1,0,1,1,0,0,1,1,1,1,1,0,0,1,1,1,1,0,1,1,0,1,1,0,0,1,0,1,0,0,0,0,0,0,1,1,0,1,0,0,1,0,0,0,0,0,0,0,1,0,1,1,1,1,1,1,1,1,1,0,0,0,1,1,0,1,0,1,1,1,1,0,0,0,1,0],\"coloraxis\":\"coloraxis\",\"symbol\":\"circle\"},\"mode\":\"markers\",\"name\":\"\",\"orientation\":\"v\",\"showlegend\":false,\"x\":[0.27286180176576225,-0.1588301972325267,-0.6296931689070412,-1.6261092433555588,2.8200285005871844,1.5300632684946762,-1.3037911781901135,2.92836384183822,-1.0548439947138275,-1.86284156432318,-0.4457555522330143,-1.722779132532011,0.9443807878256355,-0.9288701072975363,-0.3579813744059269,-0.9363284990731577,-0.2477577834939855,1.7958883155627647,1.5983791474945037,-0.17208991963222212,0.9784043284810816,-1.9329627535560294,-0.16122650338285496,0.9867121252799419,-1.8284876076636933,2.1791967203042897,1.114846954784285,-0.9092071297946416,-1.1363034423869354,-0.9298787174615916,-0.5290585980930306,-0.6565582183297317,1.2451710369528957,1.5141520376555573,-1.6467724432932103,-1.2976247495260294,0.9566215621913973,-0.4693523161287068,-1.5493587210926016,0.9969507114094912,0.48017303112093307,-1.2696154325127367,0.8004981596545652,-1.185700114542536,-0.9320611128011521,0.09946813217302707,-0.07188956851598466,-1.3703586946463873,-0.39786518362623613,-1.117949101192916,-1.182570879957112,-0.7072451159747489,-0.1523045545889063,-0.6017562747329529,1.1289315931915784,0.5062279009263791,-2.128695240250065,-0.684465965738346,-1.9090938464615161,-1.3484463842194572,-1.162776289974983,-0.9767307619704202,-2.0831032104067666,-0.6232201946542261,1.920749007397941,-0.5678235669470136,-0.725312238428778,-1.483569390866358,-1.3829439518393152,-0.2773881292376772,-1.5955988396229832,-0.21557466534779735,-1.6524850954698005,-0.9883124250069676,0.29780315458433,-0.47883946242891406,-1.3636416673929692,-1.4645486267337287,-0.1463683881506647,0.6314027389002614,1.9621354716438124,-0.7358031015988533,-1.5497740546281202,-1.8557110472505889,-0.6529464224245716,-1.4859668752553703,-0.017304296059108187,1.4969321210865212,2.220757564028413,-1.4715986525495721,2.6548869462176388,0.718306731608859,-1.5755337643722391,-1.3325544342647742,2.2022698627807293,0.7152866564117144,-1.4887504608234288,2.1026429241627413,-1.4851680662440343,0.7877527355187461,-0.45918493303574043,-1.4663758009802057,-2.315692031771681,2.825267765098529,-0.6745159998387358,-1.119009456680171,-1.535355713855218,-0.5670972259154252,-0.5222860474927526,0.2540674546088114,-1.3739480340438344,1.1386796694005585,-0.010466592854911484,1.0102881714257492,1.087846662684271,-1.527120854946142,-1.2324714317306347,3.3570536880509394,0.8617684300696172,9.417410784441536,-1.8169054413909516,-0.7920312101419423,0.4223477361550506,3.5548059417375613,0.25871179298681185,2.802156063250538,-1.2415841076005991,-1.301203023303957,2.049383730130855,0.8369128428948529,-0.10259826013722846,-1.5517946932159998,4.472520969190603,0.673401644946611,-1.540112171876011,1.1458168552002328,-1.1270110980226058,-1.1662871974486606,0.39476816650271906,-2.0906943794580535,-1.7720571985347913,-0.25239597182219276,1.7263579814203092,1.7890097765373905,-1.1720470502297133,3.567714039495552,-0.5508008616828549,1.548040319593145,2.1314948509880383,2.066523282746329,-1.7354879693794258,-0.42061941065373676,-1.484761992390691,-1.4913644835330142,-1.5563028158253582,-0.679194255982809,-0.6037994946038819,-1.3208492196196842,0.35424327745621675,-0.8840189983133546,-0.7817519027789076,-0.4597481129188572,-2.1632640944296884,-0.9595340814821225,0.3094804781610281,-1.0827636987238314,4.373259629318302,4.314707605184188,-1.431676671268816,-0.5354299387475545,-0.21232296001270556,-1.8199861946076108,-1.5087307978751332,-0.6839234497103677,-0.7252485858212141,-1.2032283265095889,-0.45852441957495693,-0.20551672397021745,1.5888412470050015,0.6045947464020608,-1.3961927723249528,-0.5699284393887719,-1.366892702640456,-1.0848102525488506,0.10676126641546237,0.7184635098102419,-0.20584602740182018,-1.4482508070040812,2.050142628774026,-0.7219941535119481,1.4990102564278718,-0.7159813071256236,0.11700265100461239,2.0500649530483126,-1.1487391475867366,2.043959731569031,-1.334450494899157,-0.5440883866648168,1.25791396483191,-0.9365807059332328,0.7448671937927815,-1.7855914134774051,-1.1527157868411877,1.7360208006953262,2.8289798240765887,0.06974353798156774,-0.6810053754759066,-1.5406578042708985,-1.5375804706089646,-1.7266192563790008,4.827560562140806,2.1643461003959175,-0.22128312506236944,-1.782148194149272,-0.029753947965180005,-2.102641794973483,3.660895969179841,-2.074948173401614,-1.5566370358274257,1.706819203616142,-1.3012782779472754,-0.8899284456259993,0.47039066049820716,2.1818586741375667,-1.4795446686953428,0.5706244008001499,0.16153713051800941,-0.6899622517187834,1.1097748973921668,0.17369653235167057,2.19345568072094,1.573252665947524,2.9269706158747826,-1.2125389732339198,-1.1796627929687276,3.481994622007156,-2.0091813123826694,0.7777023437801666,4.688932855310289,-1.3528339224455375,1.5216946158726823,1.6362324640314148,1.6178029120735804,2.5490811614280866,2.653573993131968,-0.6697412654541534,0.3580809162295416,0.12310586066691624,-0.11986231402538865,-0.35166091158070184,-1.2449950529026497,-0.23151952024392336,-1.7047826906058623,-1.3904365899165005,-1.1417874000458235,-0.31134228942958236,-0.6743347213248394,-1.207325432663296,1.8605187453524727,1.9478291440039512,4.770944294542541,-0.7346301195445509,-1.4709289201190696,1.7697964838698126,-1.7074406001404219,1.3321637615142061,-1.5873561474208322,-1.4336669372904467,-0.7594640443466946,-1.4105358036248774,3.4353538623484643,1.7478253524067937,0.7378492077042174,-1.3006620721656794,1.8353474224864734],\"xaxis\":\"x\",\"y\":[0.9228199032133383,0.08165997702894343,1.2739284924682535,1.5015163978886477,4.431001011487016,0.9881693192524637,-0.6803041257301554,1.3349024517823573,-0.6759466204308989,-0.0641894552793537,-0.20290717670369324,-1.5634038510805732,-0.27490366324863574,-0.8412362900818194,-1.2974078109815677,-0.051250994319134664,-0.6218519232740551,1.1052838787872072,1.615096458272152,-0.3272774752129312,-1.5028243753664017,-0.2663473399521159,0.011534032795321777,-1.7433844034040384,1.7564170688453697,-0.010778681494553185,1.0982940413390163,-0.00683219051364924,-1.0172801720339593,-0.819098308475262,-0.1863645540402124,1.6979971964813292,-0.4279021218547782,1.7728845947480534,0.5649324551397223,-0.14147734234174664,-0.6995380471754837,-0.5681421174308005,-1.018568802177073,1.649028842563222,-1.945546692593092,-0.3709221720320083,0.13813142372485576,-0.26018128884264513,-0.3404679550813902,0.8123831100105735,0.43396546567029615,-0.2136727023997875,0.17451710961107073,0.8427310743077906,-1.9883052104949825,-0.7879642701476255,-0.5794897833542694,1.4421548877448085,-0.40828871413667633,1.0138888942007638,0.16450661258191188,1.7012635825721556,1.6750532548523929,-0.09609120416302565,0.9187701134999939,0.44275439568599667,-0.8662375325541426,-0.10120347530496583,-1.5726358277419008,-0.9377199612216703,0.042751787237577964,1.0521929292794818,-0.6090755027361686,-0.04268844476902314,0.0859090352990693,-0.7038303105611929,0.5735229244909545,-0.3831257631228665,-0.9118636790985708,-0.4476045653918508,1.8789008188458933,1.070425520461922,0.5224652249453065,0.0004042699119675111,-0.41971979271522597,1.7594732939563462,-0.02001374884213345,0.5037014787817943,0.28486007564131977,0.6618819070194425,0.28021352143342526,0.6806190803115896,-2.2300330744906995,1.0778998327503981,1.390332904626476,-1.4250571593331764,-0.6929167233679364,-0.7510277283661675,-1.6542180136509954,-0.6272046520289911,-0.24568698325690025,-1.570140731306994,0.33252593147597376,-1.284760878900321,-1.1167381858693861,1.0870947073142183,1.10145900010388,-1.4589486282237187,-0.3942018793666837,1.037642023926614,0.909500031881392,-0.39504096165828134,-0.6742954224690092,0.14137364232876037,0.28249645117852507,-2.265836232055133,-0.670805652304882,0.22747711872259085,1.9106993155791312,-0.056274656561043135,-0.3204576173439445,0.48577365679786655,-1.140396333689736,0.8262843662438398,0.04741698040632247,-0.5139316375650183,-0.4556368793314174,0.7283512907771581,0.905577696306298,3.783071764027375,1.2436035873174827,-0.5766200389434076,-0.9127442020653485,-1.020018184882828,-0.46272651034950474,-0.023900244210269338,-0.34202126003114386,-2.09698589448299,0.895846962112833,1.4654970009305148,0.690161929836453,-0.38265001550603134,-0.028297223788039,0.48188620314274405,-1.0803279930108427,-0.45253281057148875,-1.849963237618937,0.6536411707661004,0.6328694243451227,0.5981512659690392,-0.48394019221355056,0.25926036756180626,-1.4886745208600016,-1.6952100852151222,-0.9384800290217179,-1.296678229161861,1.054725661117812,-1.097971072138481,1.0899140436823658,-0.5959794985065879,0.3406048433181548,-0.3290746671825746,-2.764556580508464,-0.05999025371986819,-1.2848578583422332,0.6639662710542364,0.12155329085546698,-0.24887076217347254,0.6952992876622053,0.5891313292897331,-0.3169115522538717,0.12042857936429259,-0.8647373874247034,-0.30434482541784696,-0.10708118313697713,-1.8551375646546826,-0.134039179815881,1.6767424341183363,-1.73280584000552,0.02984334094866094,-0.23267161546737983,3.2680836393094364,-1.3950799947634875,-0.17675890408546235,-0.22806469946866645,-0.3189223119676083,-0.6630876662113939,0.7789606092637441,1.0881916022748837,-2.1323022625690085,3.2671623982370686,-0.903560612178849,-1.4746432445004019,-1.3637238837732846,2.2472645039114036,-0.8001250048366851,1.3879972409323378,-1.5989221154569249,-0.4965092637782544,-0.8880415371828375,-0.14880283085990464,0.5828256885090902,-0.605940913314036,1.6611402769570127,-1.949545308801244,-1.089204047902381,0.3037531330574901,-2.024105165787825,0.4138514481233702,-0.7964701231111759,-0.8994897939349036,0.8942866812593181,0.792298428527887,-0.3761930232129468,-0.28985471799694573,-1.5312069363704122,-0.5566459907080941,0.680423412731798,-1.4993533787388025,0.09788054055024524,-1.338811985909276,-0.042391890629553106,0.8485927501710376,-0.8120943556265691,0.4129073757032319,0.08769977355846047,1.6626533422318392,-1.5538804138320585,-0.8498215012725862,-0.21726631898654014,-0.5602149396340971,3.5560593609687405,1.6110445361722605,0.9120757870772294,-1.568895023978446,2.313597511667862,2.083384512578219,-0.2738626198805526,0.13472158524476885,1.010532840680825,-0.5245421023720039,2.6036467148985634,0.31851451800678143,-0.965222539461055,2.1029504532777095,-1.160897273336264,-0.4266166427857358,1.5228674104303257,1.5491708286372172,2.4731536099981377,-2.179994042584573,-0.8534432459251236,0.02443092163453325,-0.6679641281790348,-0.30882685740613625,-0.553773147661014,-0.9570177735641306,1.9621283968683405,-0.21168431883225702,1.4667027467531353,-0.5836575387007327,-0.7626921682509976,-0.05259124040016894,2.2760080742548188,-0.5072980237733994,-0.5108455195417289,1.2413785183782713,-0.5008934242457661,-0.7312225710788787,1.9396789171916775,-0.1033363149600077,-0.21022924584227126,-0.7995136176062941,-0.8272562564530147,-0.5673150550290037,-1.5750078762565152,1.1223659602102976,1.5367532694304689,-0.7922402524436429],\"yaxis\":\"y\",\"type\":\"scatter\"}],                        {\"template\":{\"data\":{\"bar\":[{\"error_x\":{\"color\":\"#2a3f5f\"},\"error_y\":{\"color\":\"#2a3f5f\"},\"marker\":{\"line\":{\"color\":\"#E5ECF6\",\"width\":0.5},\"pattern\":{\"fillmode\":\"overlay\",\"size\":10,\"solidity\":0.2}},\"type\":\"bar\"}],\"barpolar\":[{\"marker\":{\"line\":{\"color\":\"#E5ECF6\",\"width\":0.5},\"pattern\":{\"fillmode\":\"overlay\",\"size\":10,\"solidity\":0.2}},\"type\":\"barpolar\"}],\"carpet\":[{\"aaxis\":{\"endlinecolor\":\"#2a3f5f\",\"gridcolor\":\"white\",\"linecolor\":\"white\",\"minorgridcolor\":\"white\",\"startlinecolor\":\"#2a3f5f\"},\"baxis\":{\"endlinecolor\":\"#2a3f5f\",\"gridcolor\":\"white\",\"linecolor\":\"white\",\"minorgridcolor\":\"white\",\"startlinecolor\":\"#2a3f5f\"},\"type\":\"carpet\"}],\"choropleth\":[{\"colorbar\":{\"outlinewidth\":0,\"ticks\":\"\"},\"type\":\"choropleth\"}],\"contour\":[{\"colorbar\":{\"outlinewidth\":0,\"ticks\":\"\"},\"colorscale\":[[0.0,\"#0d0887\"],[0.1111111111111111,\"#46039f\"],[0.2222222222222222,\"#7201a8\"],[0.3333333333333333,\"#9c179e\"],[0.4444444444444444,\"#bd3786\"],[0.5555555555555556,\"#d8576b\"],[0.6666666666666666,\"#ed7953\"],[0.7777777777777778,\"#fb9f3a\"],[0.8888888888888888,\"#fdca26\"],[1.0,\"#f0f921\"]],\"type\":\"contour\"}],\"contourcarpet\":[{\"colorbar\":{\"outlinewidth\":0,\"ticks\":\"\"},\"type\":\"contourcarpet\"}],\"heatmap\":[{\"colorbar\":{\"outlinewidth\":0,\"ticks\":\"\"},\"colorscale\":[[0.0,\"#0d0887\"],[0.1111111111111111,\"#46039f\"],[0.2222222222222222,\"#7201a8\"],[0.3333333333333333,\"#9c179e\"],[0.4444444444444444,\"#bd3786\"],[0.5555555555555556,\"#d8576b\"],[0.6666666666666666,\"#ed7953\"],[0.7777777777777778,\"#fb9f3a\"],[0.8888888888888888,\"#fdca26\"],[1.0,\"#f0f921\"]],\"type\":\"heatmap\"}],\"heatmapgl\":[{\"colorbar\":{\"outlinewidth\":0,\"ticks\":\"\"},\"colorscale\":[[0.0,\"#0d0887\"],[0.1111111111111111,\"#46039f\"],[0.2222222222222222,\"#7201a8\"],[0.3333333333333333,\"#9c179e\"],[0.4444444444444444,\"#bd3786\"],[0.5555555555555556,\"#d8576b\"],[0.6666666666666666,\"#ed7953\"],[0.7777777777777778,\"#fb9f3a\"],[0.8888888888888888,\"#fdca26\"],[1.0,\"#f0f921\"]],\"type\":\"heatmapgl\"}],\"histogram\":[{\"marker\":{\"pattern\":{\"fillmode\":\"overlay\",\"size\":10,\"solidity\":0.2}},\"type\":\"histogram\"}],\"histogram2d\":[{\"colorbar\":{\"outlinewidth\":0,\"ticks\":\"\"},\"colorscale\":[[0.0,\"#0d0887\"],[0.1111111111111111,\"#46039f\"],[0.2222222222222222,\"#7201a8\"],[0.3333333333333333,\"#9c179e\"],[0.4444444444444444,\"#bd3786\"],[0.5555555555555556,\"#d8576b\"],[0.6666666666666666,\"#ed7953\"],[0.7777777777777778,\"#fb9f3a\"],[0.8888888888888888,\"#fdca26\"],[1.0,\"#f0f921\"]],\"type\":\"histogram2d\"}],\"histogram2dcontour\":[{\"colorbar\":{\"outlinewidth\":0,\"ticks\":\"\"},\"colorscale\":[[0.0,\"#0d0887\"],[0.1111111111111111,\"#46039f\"],[0.2222222222222222,\"#7201a8\"],[0.3333333333333333,\"#9c179e\"],[0.4444444444444444,\"#bd3786\"],[0.5555555555555556,\"#d8576b\"],[0.6666666666666666,\"#ed7953\"],[0.7777777777777778,\"#fb9f3a\"],[0.8888888888888888,\"#fdca26\"],[1.0,\"#f0f921\"]],\"type\":\"histogram2dcontour\"}],\"mesh3d\":[{\"colorbar\":{\"outlinewidth\":0,\"ticks\":\"\"},\"type\":\"mesh3d\"}],\"parcoords\":[{\"line\":{\"colorbar\":{\"outlinewidth\":0,\"ticks\":\"\"}},\"type\":\"parcoords\"}],\"pie\":[{\"automargin\":true,\"type\":\"pie\"}],\"scatter\":[{\"marker\":{\"colorbar\":{\"outlinewidth\":0,\"ticks\":\"\"}},\"type\":\"scatter\"}],\"scatter3d\":[{\"line\":{\"colorbar\":{\"outlinewidth\":0,\"ticks\":\"\"}},\"marker\":{\"colorbar\":{\"outlinewidth\":0,\"ticks\":\"\"}},\"type\":\"scatter3d\"}],\"scattercarpet\":[{\"marker\":{\"colorbar\":{\"outlinewidth\":0,\"ticks\":\"\"}},\"type\":\"scattercarpet\"}],\"scattergeo\":[{\"marker\":{\"colorbar\":{\"outlinewidth\":0,\"ticks\":\"\"}},\"type\":\"scattergeo\"}],\"scattergl\":[{\"marker\":{\"colorbar\":{\"outlinewidth\":0,\"ticks\":\"\"}},\"type\":\"scattergl\"}],\"scattermapbox\":[{\"marker\":{\"colorbar\":{\"outlinewidth\":0,\"ticks\":\"\"}},\"type\":\"scattermapbox\"}],\"scatterpolar\":[{\"marker\":{\"colorbar\":{\"outlinewidth\":0,\"ticks\":\"\"}},\"type\":\"scatterpolar\"}],\"scatterpolargl\":[{\"marker\":{\"colorbar\":{\"outlinewidth\":0,\"ticks\":\"\"}},\"type\":\"scatterpolargl\"}],\"scatterternary\":[{\"marker\":{\"colorbar\":{\"outlinewidth\":0,\"ticks\":\"\"}},\"type\":\"scatterternary\"}],\"surface\":[{\"colorbar\":{\"outlinewidth\":0,\"ticks\":\"\"},\"colorscale\":[[0.0,\"#0d0887\"],[0.1111111111111111,\"#46039f\"],[0.2222222222222222,\"#7201a8\"],[0.3333333333333333,\"#9c179e\"],[0.4444444444444444,\"#bd3786\"],[0.5555555555555556,\"#d8576b\"],[0.6666666666666666,\"#ed7953\"],[0.7777777777777778,\"#fb9f3a\"],[0.8888888888888888,\"#fdca26\"],[1.0,\"#f0f921\"]],\"type\":\"surface\"}],\"table\":[{\"cells\":{\"fill\":{\"color\":\"#EBF0F8\"},\"line\":{\"color\":\"white\"}},\"header\":{\"fill\":{\"color\":\"#C8D4E3\"},\"line\":{\"color\":\"white\"}},\"type\":\"table\"}]},\"layout\":{\"annotationdefaults\":{\"arrowcolor\":\"#2a3f5f\",\"arrowhead\":0,\"arrowwidth\":1},\"autotypenumbers\":\"strict\",\"coloraxis\":{\"colorbar\":{\"outlinewidth\":0,\"ticks\":\"\"}},\"colorscale\":{\"diverging\":[[0,\"#8e0152\"],[0.1,\"#c51b7d\"],[0.2,\"#de77ae\"],[0.3,\"#f1b6da\"],[0.4,\"#fde0ef\"],[0.5,\"#f7f7f7\"],[0.6,\"#e6f5d0\"],[0.7,\"#b8e186\"],[0.8,\"#7fbc41\"],[0.9,\"#4d9221\"],[1,\"#276419\"]],\"sequential\":[[0.0,\"#0d0887\"],[0.1111111111111111,\"#46039f\"],[0.2222222222222222,\"#7201a8\"],[0.3333333333333333,\"#9c179e\"],[0.4444444444444444,\"#bd3786\"],[0.5555555555555556,\"#d8576b\"],[0.6666666666666666,\"#ed7953\"],[0.7777777777777778,\"#fb9f3a\"],[0.8888888888888888,\"#fdca26\"],[1.0,\"#f0f921\"]],\"sequentialminus\":[[0.0,\"#0d0887\"],[0.1111111111111111,\"#46039f\"],[0.2222222222222222,\"#7201a8\"],[0.3333333333333333,\"#9c179e\"],[0.4444444444444444,\"#bd3786\"],[0.5555555555555556,\"#d8576b\"],[0.6666666666666666,\"#ed7953\"],[0.7777777777777778,\"#fb9f3a\"],[0.8888888888888888,\"#fdca26\"],[1.0,\"#f0f921\"]]},\"colorway\":[\"#636efa\",\"#EF553B\",\"#00cc96\",\"#ab63fa\",\"#FFA15A\",\"#19d3f3\",\"#FF6692\",\"#B6E880\",\"#FF97FF\",\"#FECB52\"],\"font\":{\"color\":\"#2a3f5f\"},\"geo\":{\"bgcolor\":\"white\",\"lakecolor\":\"white\",\"landcolor\":\"#E5ECF6\",\"showlakes\":true,\"showland\":true,\"subunitcolor\":\"white\"},\"hoverlabel\":{\"align\":\"left\"},\"hovermode\":\"closest\",\"mapbox\":{\"style\":\"light\"},\"paper_bgcolor\":\"white\",\"plot_bgcolor\":\"#E5ECF6\",\"polar\":{\"angularaxis\":{\"gridcolor\":\"white\",\"linecolor\":\"white\",\"ticks\":\"\"},\"bgcolor\":\"#E5ECF6\",\"radialaxis\":{\"gridcolor\":\"white\",\"linecolor\":\"white\",\"ticks\":\"\"}},\"scene\":{\"xaxis\":{\"backgroundcolor\":\"#E5ECF6\",\"gridcolor\":\"white\",\"gridwidth\":2,\"linecolor\":\"white\",\"showbackground\":true,\"ticks\":\"\",\"zerolinecolor\":\"white\"},\"yaxis\":{\"backgroundcolor\":\"#E5ECF6\",\"gridcolor\":\"white\",\"gridwidth\":2,\"linecolor\":\"white\",\"showbackground\":true,\"ticks\":\"\",\"zerolinecolor\":\"white\"},\"zaxis\":{\"backgroundcolor\":\"#E5ECF6\",\"gridcolor\":\"white\",\"gridwidth\":2,\"linecolor\":\"white\",\"showbackground\":true,\"ticks\":\"\",\"zerolinecolor\":\"white\"}},\"shapedefaults\":{\"line\":{\"color\":\"#2a3f5f\"}},\"ternary\":{\"aaxis\":{\"gridcolor\":\"white\",\"linecolor\":\"white\",\"ticks\":\"\"},\"baxis\":{\"gridcolor\":\"white\",\"linecolor\":\"white\",\"ticks\":\"\"},\"bgcolor\":\"#E5ECF6\",\"caxis\":{\"gridcolor\":\"white\",\"linecolor\":\"white\",\"ticks\":\"\"}},\"title\":{\"x\":0.05},\"xaxis\":{\"automargin\":true,\"gridcolor\":\"white\",\"linecolor\":\"white\",\"ticks\":\"\",\"title\":{\"standoff\":15},\"zerolinecolor\":\"white\",\"zerolinewidth\":2},\"yaxis\":{\"automargin\":true,\"gridcolor\":\"white\",\"linecolor\":\"white\",\"ticks\":\"\",\"title\":{\"standoff\":15},\"zerolinecolor\":\"white\",\"zerolinewidth\":2}}},\"xaxis\":{\"anchor\":\"y\",\"domain\":[0.0,1.0],\"title\":{\"text\":\"x\"}},\"yaxis\":{\"anchor\":\"x\",\"domain\":[0.0,1.0],\"title\":{\"text\":\"y\"}},\"coloraxis\":{\"colorbar\":{\"title\":{\"text\":\"color\"}},\"colorscale\":[[0.0,\"#0d0887\"],[0.1111111111111111,\"#46039f\"],[0.2222222222222222,\"#7201a8\"],[0.3333333333333333,\"#9c179e\"],[0.4444444444444444,\"#bd3786\"],[0.5555555555555556,\"#d8576b\"],[0.6666666666666666,\"#ed7953\"],[0.7777777777777778,\"#fb9f3a\"],[0.8888888888888888,\"#fdca26\"],[1.0,\"#f0f921\"]]},\"legend\":{\"tracegroupgap\":0},\"margin\":{\"t\":60}},                        {\"responsive\": true}                    ).then(function(){\n",
              "                            \n",
              "var gd = document.getElementById('4421540d-9695-4a42-a24b-37251f55e97d');\n",
              "var x = new MutationObserver(function (mutations, observer) {{\n",
              "        var display = window.getComputedStyle(gd).display;\n",
              "        if (!display || display === 'none') {{\n",
              "            console.log([gd, 'removed!']);\n",
              "            Plotly.purge(gd);\n",
              "            observer.disconnect();\n",
              "        }}\n",
              "}});\n",
              "\n",
              "// Listen for the removal of the full notebook cells\n",
              "var notebookContainer = gd.closest('#notebook-container');\n",
              "if (notebookContainer) {{\n",
              "    x.observe(notebookContainer, {childList: true});\n",
              "}}\n",
              "\n",
              "// Listen for the clearing of the current output cell\n",
              "var outputEl = gd.closest('.output');\n",
              "if (outputEl) {{\n",
              "    x.observe(outputEl, {childList: true});\n",
              "}}\n",
              "\n",
              "                        })                };                            </script>        </div>\n",
              "</body>\n",
              "</html>"
            ]
          },
          "metadata": {}
        }
      ],
      "source": [
        "grafico = px.scatter(x = X_dados_train_pca[:,0], y = X_dados_train_pca[:,1], color = rotulos)\n",
        "grafico.show()"
      ]
    }
  ],
  "metadata": {
    "colab": {
      "collapsed_sections": [],
      "name": "Algoritmo Mestrado Conrado Definitivo.ipynb(AGESEXBIOMARCADORES)",
      "provenance": [],
      "mount_file_id": "1I0VwQiPF9CHrgev-huPEnD1PFq8ZiaDA",
      "authorship_tag": "ABX9TyNCzkw16WQohH6MiPXC3p5w",
      "include_colab_link": true
    },
    "kernelspec": {
      "display_name": "Python 3",
      "name": "python3"
    },
    "language_info": {
      "name": "python"
    }
  },
  "nbformat": 4,
  "nbformat_minor": 0
}